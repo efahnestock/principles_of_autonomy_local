{
 "cells": [
  {
   "cell_type": "markdown",
   "id": "251e8452",
   "metadata": {
    "id": "251e8452"
   },
   "source": [
    "# Problem Set 09: Linear Programming and Mixed-Integer Linear Programming. \n",
    "\n",
    "In this problem set, you will explore how to model problems as LPs and MILPs and solve these programs. \n",
    "\n",
    "0. [Credit for Contributors (required)](#contributors)\n",
    "\n",
    "1. [Linear Programs (40 points)](#LPs)\n",
    "    * [1.1 Check your understanding (10 points)](#lp-understanding)\n",
    "    * [1.2 Implementation Warmup (10 points)](#lp_warmup)\n",
    "    * [1.3 Building an LP (20 points)](#lp_build)\n",
    "2. [Integer Programs (30 points)](#IPs)\n",
    "    * [2.1 An IP as an LP (16 points)](#IPasLP)\n",
    "    * [2.2 The knapsack problem as an IP (12 points)](#knapsack)\n",
    "4. [Mixed Integer Linear Programs (38 points)](#MILPs)\n",
    "   * [3.1 Satellite allocation (16 points)](#MILP-satellite)\n",
    "   * [3.2 Handling disjunction (16 points)](#disjunction)\n",
    "   * [3.3 Wrapping up (6 points)](#wrap\")\n",
    "6. [Time Spent on Pset (5 points)](#part4)\n",
    "    \n",
    "**111 points** total for Problem Set 9"
   ]
  },
  {
   "cell_type": "markdown",
   "id": "87d4e156-fb34-457d-a825-5c22884c8971",
   "metadata": {},
   "source": [
    "## <a id=\"contributors\">Credit for Contributors</a>\n",
    "\n",
    "List the various students, lecture notes, or online resouces that helped you complete this problem set:\n",
    "\n",
    "Ex: I worked with Bob on the cat activity planning problem.\n",
    "\n",
    "<div class=\"alert alert-info\">\n",
    "Write your answer in the cell below this one.\n",
    "</div>"
   ]
  },
  {
   "cell_type": "markdown",
   "id": "f286073f-e0a7-4800-ae9d-00d4410951c9",
   "metadata": {},
   "source": [
    "--> *(double click on this cell to delete this text and type your answer here)*"
   ]
  },
  {
   "cell_type": "markdown",
   "id": "e6457164",
   "metadata": {
    "id": "e6457164"
   },
   "source": [
    "## Imports and Utilities"
   ]
  },
  {
   "cell_type": "code",
   "execution_count": null,
   "id": "969092d9",
   "metadata": {
    "id": "969092d9"
   },
   "outputs": [],
   "source": [
    "import numpy as np\n",
    "from scipy.optimize import linprog\n",
    "from scipy.optimize import milp\n",
    "from scipy.optimize import LinearConstraint\n",
    "from principles_of_autonomy.notebook_tests.pset_9 import TestPSet9\n",
    "from principles_of_autonomy.grader import Grader"
   ]
  },
  {
   "cell_type": "markdown",
   "id": "7929e5ea",
   "metadata": {
    "id": "7929e5ea"
   },
   "source": [
    "# <a id=\"LPs\">1. Linear Programming (44 points)</a>\n",
    "\n",
    "### <a id=\"lp-understanding\">1.1 Check your understanding (10 points)</a>\n",
    "\n",
    "1.1.1 Given the following program, \n",
    "$$max \\, (x + y)$$ \n",
    "$$x + y \\le 1 $$\n",
    "$$x, y \\ge 0$$\n",
    "please say whether the following are True or False:   \n",
    "(a) Is it an LP?  \n",
    "(b) Is it infeasible?  \n",
    "(c) Is it unbounded?  \n",
    "(d) Does it have a unique optimal solution?  "
   ]
  },
  {
   "cell_type": "code",
   "execution_count": null,
   "id": "c3c9258b-7ce5-40ae-ac3d-e6f9b023985d",
   "metadata": {},
   "outputs": [],
   "source": [
    "## Enter your answer by changing the assignment expression below, e.g., q1_answer = (False, False, False, False)\n",
    "## Your answer should be a list of 4 True / False values. \n",
    "q1_answer = ()\n",
    " "
   ]
  },
  {
   "cell_type": "code",
   "execution_count": null,
   "id": "a1538653-93b9-4411-9e02-3c1d6473c341",
   "metadata": {},
   "outputs": [],
   "source": [
    "# test_1\n",
    "Grader.run_single_test_inline(TestPSet9, \"test_01\", locals())"
   ]
  },
  {
   "cell_type": "markdown",
   "id": "e933116f-7302-4d56-af79-1c8f35a1a642",
   "metadata": {},
   "source": [
    "## 1.1.2 Given the following program, \n",
    "$$max \\, (x + y)$$ \n",
    "$$x + 2y \\le + 4 $$\n",
    "$$x, y \\ge 0$$\n",
    "please say whether the following are True or False:   \n",
    "(a) Is it an LP?  \n",
    "(b) Is it infeasible?  \n",
    "(c) Is it unbounded?  \n",
    "(d) Does it have a unique optimal solution?  "
   ]
  },
  {
   "cell_type": "code",
   "execution_count": null,
   "id": "da951cba-0e49-4ec0-ba2f-042ed15792a4",
   "metadata": {},
   "outputs": [],
   "source": [
    "## Enter your answer by changing the assignment expression below, e.g., q2_answer = (False, False, False, False)\n",
    "## Your answer should be a list of 4 True / False values. \n",
    "q2_answer = ()\n",
    " "
   ]
  },
  {
   "cell_type": "code",
   "execution_count": null,
   "id": "6acc41ac-c24e-4930-9387-a3e902717963",
   "metadata": {},
   "outputs": [],
   "source": [
    "Grader.run_single_test_inline(TestPSet9, \"test_02\", locals())"
   ]
  },
  {
   "cell_type": "markdown",
   "id": "7eda98d4-d4d7-4d82-ad17-4efacbf8458c",
   "metadata": {},
   "source": [
    "## 1.1.3 Given the following program, \n",
    "$$max \\, (x + y)$$ \n",
    "$$x - y \\le 1 $$\n",
    "$$x, y \\ge 0$$\n",
    "please say whether the following are True or False:   \n",
    "(a) Is it an LP?  \n",
    "(b) Is it infeasible?  \n",
    "(c) Is it unbounded?  \n",
    "(d) Does it have a unique optimal solution?  "
   ]
  },
  {
   "cell_type": "code",
   "execution_count": null,
   "id": "aa0706b5-cd94-4afa-a7d6-eacf970b2a04",
   "metadata": {},
   "outputs": [],
   "source": [
    "## Enter your answer by changing the assignment expression below, e.g., q3_answer = (False, False, False, False)\n",
    "## Your answer should be a list of 4 True / False values. \n",
    "q3_answer = ()\n",
    " "
   ]
  },
  {
   "cell_type": "code",
   "execution_count": null,
   "id": "298dd961-1fa3-457a-860c-9b4c0321c66b",
   "metadata": {},
   "outputs": [],
   "source": [
    "Grader.run_single_test_inline(TestPSet9, \"test_03\", locals())"
   ]
  },
  {
   "cell_type": "markdown",
   "id": "d7491b31-5b18-45b7-8e99-17fe50378b24",
   "metadata": {},
   "source": [
    "## 1.1.4 Given the following program, \n",
    "$$max \\, (x + y)$$ \n",
    "$$(2x + 10) + (y - 10) \\le (x - 5) - (y - 5) $$\n",
    "$$x, y \\ge 0$$\n",
    "please say whether the following are True or False:   \n",
    "(a) Is it an LP?  \n",
    "(b) Is it infeasible?  \n",
    "(c) Is it unbounded?  \n",
    "(d) Does it have a unique optimal solution?  "
   ]
  },
  {
   "cell_type": "code",
   "execution_count": null,
   "id": "5af8b47e-ba5d-49d5-98b8-87f83599e5ff",
   "metadata": {},
   "outputs": [],
   "source": [
    "## Enter your answer by changing the assignment expression below, e.g., q4_answer = (False, False, False, False)\n",
    "## Your answer should be a list of 4 True / False values. \n",
    "q4_answer = ()\n",
    " "
   ]
  },
  {
   "cell_type": "code",
   "execution_count": null,
   "id": "f6e85131-13cf-43dd-9bd9-c528a78ba5bd",
   "metadata": {},
   "outputs": [],
   "source": [
    "Grader.run_single_test_inline(TestPSet9, \"test_04\", locals())"
   ]
  },
  {
   "cell_type": "markdown",
   "id": "ddb9e6e1-ba7d-4d03-a070-d4f68c697d88",
   "metadata": {},
   "source": [
    "## 1.1.5 Given the following program, \n",
    "$$max \\, (x + y)$$ \n",
    "$$x + xy + y \\le -1 $$\n",
    "$$x, y \\ge 0$$\n",
    "please say whether the following are True or False:   \n",
    "(a) Is it an LP?  \n",
    "(b) Is it infeasible?  \n",
    "(c) Is it unbounded?  \n",
    "(d) Does it have a unique optimal solution?  "
   ]
  },
  {
   "cell_type": "code",
   "execution_count": null,
   "id": "2c97dd25-5e24-440c-b9bb-514f692130bf",
   "metadata": {},
   "outputs": [],
   "source": [
    "## Enter your answer by changing the assignment expression below, e.g., q5_answer = (False, False, False, False)\n",
    "## Your answer should be a list of 5 True / False values. \n",
    "q5_answer = ()\n",
    " "
   ]
  },
  {
   "cell_type": "code",
   "execution_count": null,
   "id": "f930081e-8728-4f2e-9947-01f582e14376",
   "metadata": {},
   "outputs": [],
   "source": [
    "Grader.run_single_test_inline(TestPSet9, \"test_05\", locals())"
   ]
  },
  {
   "attachments": {},
   "cell_type": "markdown",
   "id": "a9daccbf-9a56-4967-b7ce-90d924416f77",
   "metadata": {},
   "source": [
    "### <a id=\"lp_warmup\">1.2 Implementation Warmup (10 points)</a>\n",
    "\n",
    "Let's start by trying to solve our example from lecture. Recall that we started with the following very simple linear program: \n",
    "\n",
    "Maximize $$z = 3x_1 + 5x_2$$\n",
    "such that\n",
    "\t$$x_1 \\le 4$$\n",
    "\t$$2x_2 \\le 12$$\n",
    "\t$$3x_1+2x_2 ≤ 18$$\n",
    "\t$$x_1, x_2 ≥ 0$$ \n",
    "\n",
    "The python LP solver in `scipy` is `scipy.optimize.linprog`, which we have imported for you. `linprog` expects an objective `c`, and the constraints in form $$A_{ub}x \\le b_{ub}$$ `c` is expected to be a minimization, which is different to standard form. (These are not the only parameters that `linprog` can take, but let's focus on these for the moment.)\n",
    "\n",
    "We can encode this as an LP using the following form: \n",
    "- `c = [list of coefficients]`\n",
    "- `lhs = [[list of coeffiecients], [...], ...]`\n",
    "- `rhs = [list of coeffiecients]`\n",
    "\n",
    "And then solve it using \n",
    "`lp_soln = linprog(c=obj, A_ub=lhs, b_ub=rhs, method = 'highs')`\n",
    "where `method` specifies the solution technique. We will use `highs` which is the simplex method. "
   ]
  },
  {
   "cell_type": "markdown",
   "id": "14023b31-6055-4d11-9807-2d1fd0a4a6d9",
   "metadata": {},
   "source": [
    "### 1.2.1 Let's start by encoding the objective of our LP from above\n",
    "Please assume the state vector is $$x = [x_1, x_2]$$ and order the coefficients in the objective vector accordingly."
   ]
  },
  {
   "cell_type": "code",
   "execution_count": null,
   "id": "1fc6fd06-637d-4421-9dcc-9b783d159197",
   "metadata": {},
   "outputs": [],
   "source": [
    "## Enter your answer by changing the assignment expression below, e.g., obj_simple = [0, 0]\n",
    "obj_simple = [] \n",
    " "
   ]
  },
  {
   "cell_type": "code",
   "execution_count": null,
   "id": "8a1be47e-978c-4b52-a61b-cb6333814771",
   "metadata": {},
   "outputs": [],
   "source": [
    "Grader.run_single_test_inline(TestPSet9, \"test_06\", locals())"
   ]
  },
  {
   "cell_type": "markdown",
   "id": "86fb660e-5024-4b26-899c-65c40453437c",
   "metadata": {},
   "source": [
    "### 1.2.2 Let's encode the left hand side of the constraints from our LP\n",
    "Please keep the ordering of the constraints as in the LP above."
   ]
  },
  {
   "cell_type": "code",
   "execution_count": null,
   "id": "022f3a4e-9086-4a4a-a33f-1aa2cd6eac96",
   "metadata": {},
   "outputs": [],
   "source": [
    "## Enter your answer by changing the assignment expression below, e.g., lhs_simple = [[0, 0], [0, 0]]\n",
    "lhs_simple = [] \n"
   ]
  },
  {
   "cell_type": "code",
   "execution_count": null,
   "id": "fe2b24af-c816-4f76-b3c4-6d778d000e8d",
   "metadata": {},
   "outputs": [],
   "source": [
    "Grader.run_single_test_inline(TestPSet9, \"test_07\", locals())"
   ]
  },
  {
   "cell_type": "markdown",
   "id": "8c8e9075-ddc0-42dd-bcfc-989d5622930b",
   "metadata": {},
   "source": [
    "### 1.2.3 Let's encode the right hand side of the constraints from our LP\n",
    "Again, please keep the ordering of the constraints as in the LP above."
   ]
  },
  {
   "cell_type": "code",
   "execution_count": null,
   "id": "42b190d4-7903-491a-b213-d0b03c7d3fa5",
   "metadata": {},
   "outputs": [],
   "source": [
    "## Enter your answer by changing the assignment expression below, e.g., rhs_simple = [0, 0]\n",
    "rhs_simple = [] \n"
   ]
  },
  {
   "cell_type": "code",
   "execution_count": null,
   "id": "5ea2d0ac-2f5b-40d7-9039-fc2e603b2624",
   "metadata": {},
   "outputs": [],
   "source": [
    "Grader.run_single_test_inline(TestPSet9, \"test_08\", locals())"
   ]
  },
  {
   "cell_type": "markdown",
   "id": "f2d428f8-2c99-4596-aece-7aec0bf9f6e5",
   "metadata": {},
   "source": [
    "### 1.2.4 Now let's send our LP to the solver and get the values of the decision variables and the optimum of the solution: "
   ]
  },
  {
   "cell_type": "code",
   "execution_count": null,
   "id": "50d2c1f8-4047-4f34-9cd3-c9438ddbc012",
   "metadata": {},
   "outputs": [],
   "source": [
    "## Enter your answer by changing the assignment expression below, \n",
    "# e.g., \n",
    "# lp_soln_simple = linprog(...)\n",
    "# decision_variables_simple = \n",
    "# optimum_simple = \n",
    "lp_soln_simple = None\n",
    "decison_variables_simple = None\n",
    "optimum_simple = None\n"
   ]
  },
  {
   "cell_type": "code",
   "execution_count": null,
   "id": "d292bbf0",
   "metadata": {
    "id": "d292bbf0"
   },
   "outputs": [],
   "source": [
    "# Note: we're providing these unit tests to help you. \n",
    "# The grading test is more strict for this question\n",
    "# than the unit tests here. Make sure that your answer\n",
    "# matches the description in the docstring exactly. The \n",
    "# order of your variables matters. \n",
    "assert np.isscalar(optimum_simple)\n",
    "assert optimum_simple > 0 \n",
    "assert len(decision_variables_simple) == 2\n",
    "print('Tests passed.')"
   ]
  },
  {
   "cell_type": "code",
   "execution_count": null,
   "id": "999227fe-e705-4c70-9e20-e70836803b49",
   "metadata": {},
   "outputs": [],
   "source": [
    "Grader.run_single_test_inline(TestPSet9, \"test_09\", locals())"
   ]
  },
  {
   "cell_type": "markdown",
   "id": "059b244f-57b1-406e-9800-212b4c09ef3c",
   "metadata": {},
   "source": [
    "### <a id=\"lp_build\">1.3 Building an LP (20 points)</a>"
   ]
  },
  {
   "cell_type": "markdown",
   "id": "fb9e765e-1298-44b6-8682-80e7944237d8",
   "metadata": {},
   "source": [
    "A satellite constellation produces four different types of images and transmits those images back to a ground station.  The first type of image (e.g., RGB) is generated at a rate of $x_1$ per second, the second type of image (e.g., IR images) is $x_2$, and so on. The goal is to determine how many images to produce per second that maximizes the utility of the constellation, with the following constraints,\n",
    "\n",
    "* The utility per image is 20, 12, 30, and 15 for the first, second, third, and fourth image type, respectively. Even fractions of images are (weirdly) useful in this setting, so we do not have to worry about needing integer solutions.  \n",
    "* Due to bandwidth constraints, the total number of images transmitted per second cannot exceed fifty.\n",
    "* Generating each image type also consumes CPU and GPU resources. Each of the first image type requires 3% of the CPU but not the GPU. Each of the second image type requires 2% of the CPU and 1% of the GPU cores. Each of the third image requires 2% of the CPU and 5% of the GPU cores. Finally, producing each of the fourth image type requires 3% of the GPU cores, and only the GPU. "
   ]
  },
  {
   "cell_type": "markdown",
   "id": "80bba675-89e3-43d8-ad0e-fadff0c72b73",
   "metadata": {},
   "source": [
    "### 1.3.1 Let's define the objective:\n",
    "Please keep the ordering of the coefficients as in the LP above."
   ]
  },
  {
   "cell_type": "code",
   "execution_count": null,
   "id": "f660dc30-8794-4579-90e2-30ee96862be9",
   "metadata": {},
   "outputs": [],
   "source": [
    "## Enter your answer by changing the assignment expression below, e.g., obj_image = [0, 0]\n",
    "obj_image = [] \n",
    " "
   ]
  },
  {
   "cell_type": "code",
   "execution_count": null,
   "id": "5117078e-5920-4a85-bb66-45c907ee6776",
   "metadata": {},
   "outputs": [],
   "source": [
    "Grader.run_single_test_inline(TestPSet9, \"test_10\", locals())"
   ]
  },
  {
   "cell_type": "markdown",
   "id": "f3da887d-8b42-4530-a61a-78360231b0c8",
   "metadata": {},
   "source": [
    "### 1.3.2 Now let's define the A matrix:\n",
    "Please follow the ordering the constraints are introduced in the problem statement (CPU before GPU), and use whole numbers for percentages (e.g., 3% = 3, and update the B vector accordingly)."
   ]
  },
  {
   "cell_type": "code",
   "execution_count": null,
   "id": "ce0fb455-4c68-4cd9-af5b-2d45d235d3fe",
   "metadata": {},
   "outputs": [],
   "source": [
    "## Enter your answer by changing the assignment expression below, e.g., lhs_image = [[0, 0], [0, 0]]\n",
    "lhs_image = [] \n"
   ]
  },
  {
   "cell_type": "code",
   "execution_count": null,
   "id": "82d65499-0519-4a74-b5d9-d1aaa2641a6c",
   "metadata": {},
   "outputs": [],
   "source": [
    "Grader.run_single_test_inline(TestPSet9, \"test_11\", locals())"
   ]
  },
  {
   "cell_type": "markdown",
   "id": "f4239e5f-ac54-482a-92de-3d042be5cabb",
   "metadata": {},
   "source": [
    "### 1.3.3 And the b vector:"
   ]
  },
  {
   "cell_type": "code",
   "execution_count": null,
   "id": "7362bcae-e25b-4706-84a6-ee3be37af8fa",
   "metadata": {},
   "outputs": [],
   "source": [
    "## Enter your answer by changing the assignment expression below, e.g., rhs_image = [0, 0]\n",
    "rhs_image = [] \n"
   ]
  },
  {
   "cell_type": "code",
   "execution_count": null,
   "id": "ae17024e-03c2-4b61-8f05-ccb8a0faa429",
   "metadata": {},
   "outputs": [],
   "source": [
    "Grader.run_single_test_inline(TestPSet9, \"test_12\", locals())"
   ]
  },
  {
   "cell_type": "markdown",
   "id": "199bbd2f-fa6a-4ed8-9221-9365ac03f8a6",
   "metadata": {},
   "source": [
    "### 1.3.4 Now please solve the corresponding LP. "
   ]
  },
  {
   "cell_type": "code",
   "execution_count": null,
   "id": "a7636097-fea6-4a67-904e-d02d73c5d5f1",
   "metadata": {},
   "outputs": [],
   "source": [
    "## Enter your answer by changing the assignment expression below, \n",
    "# e.g., \n",
    "# lp_soln_image = linprog(...)\n",
    "lp_soln_image = None\n"
   ]
  },
  {
   "cell_type": "code",
   "execution_count": null,
   "id": "7c0f49aa-ccbc-4e3e-b83f-a18da7bca7b8",
   "metadata": {},
   "outputs": [],
   "source": [
    "Grader.run_single_test_inline(TestPSet9, \"test_13\", locals())"
   ]
  },
  {
   "cell_type": "markdown",
   "id": "e1fe7987-cbef-4ea4-aaa9-5e9769fd9f13",
   "metadata": {},
   "source": [
    "### 1.3.5 How many images of the second type do we end up taking? "
   ]
  },
  {
   "cell_type": "code",
   "execution_count": null,
   "id": "e32f38b5-8050-4585-a832-c05b6f7d1ba8",
   "metadata": {},
   "outputs": [],
   "source": [
    "## Enter your answer by changing the assignment expression below, e.g., image2 = 50\n",
    "image2 = None\n"
   ]
  },
  {
   "cell_type": "code",
   "execution_count": null,
   "id": "601c3c9e-ca94-4e81-b756-703ec9facf4d",
   "metadata": {},
   "outputs": [],
   "source": [
    "Grader.run_single_test_inline(TestPSet9, \"test_14\", locals())"
   ]
  },
  {
   "cell_type": "markdown",
   "id": "de31800c-71ab-479d-8dcf-cee5dc424ec2",
   "metadata": {},
   "source": [
    "### 1.3.6 What is the overall utility achieved by our satellite constellation? "
   ]
  },
  {
   "cell_type": "code",
   "execution_count": null,
   "id": "41be7619-e55f-44ac-b6c2-ff29d13a4a98",
   "metadata": {},
   "outputs": [],
   "source": [
    "## Enter your answer by changing the assignment expression below, e.g., utility_image = 50\n",
    "utility_image = None\n"
   ]
  },
  {
   "cell_type": "code",
   "execution_count": null,
   "id": "eb5d44b9-18a2-44f5-a5f2-2d4668ec72bb",
   "metadata": {},
   "outputs": [],
   "source": [
    "Grader.run_single_test_inline(TestPSet9, \"test_15\", locals())"
   ]
  },
  {
   "cell_type": "markdown",
   "id": "706e23bf-65eb-4001-8390-52ed810576f6",
   "metadata": {},
   "source": [
    "### 1.3.7 Which camera is producing the most value?"
   ]
  },
  {
   "cell_type": "code",
   "execution_count": null,
   "id": "d2470a53-cabe-4640-8237-065da11ff90d",
   "metadata": {},
   "outputs": [],
   "source": [
    "## Enter your answer by changing the assignment expression below, e.g., max_utility_camera = 2\n",
    "max_utility_camera = None\n"
   ]
  },
  {
   "cell_type": "code",
   "execution_count": null,
   "id": "d711d88d-7621-4e6c-844c-eebab6848162",
   "metadata": {},
   "outputs": [],
   "source": [
    "Grader.run_single_test_inline(TestPSet9, \"test_16\", locals())"
   ]
  },
  {
   "cell_type": "markdown",
   "id": "c87bf505-6e57-409e-bd16-e24dfa73506c",
   "metadata": {},
   "source": [
    "### 1.3.8 Let us now reformulate the problem \n",
    "...to require that each camera must take at least one full image (although once we have at least one image of each kind, additional fractional images are still useful). You may need to change the objective, the constraint matrices or both. "
   ]
  },
  {
   "cell_type": "code",
   "execution_count": null,
   "id": "9dd02eed-652e-4eb6-b444-a3da65e26e72",
   "metadata": {},
   "outputs": [],
   "source": [
    "## Enter your answer by changing the assignment expression below, \n",
    "# e.g., \n",
    "# lp_soln_full_image = linprog(...)\n",
    "lp_soln_full_image = None\n"
   ]
  },
  {
   "cell_type": "markdown",
   "id": "904fdfe0-41ee-405f-82ab-2f33c97c470c",
   "metadata": {},
   "source": [
    "### 1.3.9 What is the utility of our system now? "
   ]
  },
  {
   "cell_type": "code",
   "execution_count": null,
   "id": "d10d9fec-e6fc-41c6-a4db-42f23dc74de4",
   "metadata": {},
   "outputs": [],
   "source": [
    "## Enter your answer by changing the assignment expression below, e.g., utility_new = 50\n",
    "utility_new = None\n"
   ]
  },
  {
   "cell_type": "code",
   "execution_count": null,
   "id": "33e12e5e-c620-4c46-ac27-8f2f830d6400",
   "metadata": {},
   "outputs": [],
   "source": [
    "# note test 17 intentionally skipped and is not a part of this assignment\n",
    "Grader.run_single_test_inline(TestPSet9, \"test_18\", locals())"
   ]
  },
  {
   "cell_type": "markdown",
   "id": "5986ed4e-33dd-41ea-b900-6219ee50c6dd",
   "metadata": {},
   "source": [
    "### 1.3.10 Did the total system utility go up or down? "
   ]
  },
  {
   "cell_type": "code",
   "execution_count": null,
   "id": "15b47d80-50c2-418e-9b33-04f04dec5555",
   "metadata": {},
   "outputs": [],
   "source": [
    "## Enter your answer by changing the assignment expression below, e.g., change_image = 'up' or change_image = 'down' \n",
    "change_image = None\n"
   ]
  },
  {
   "cell_type": "code",
   "execution_count": null,
   "id": "e610f684-ca53-4514-888f-452141da5900",
   "metadata": {},
   "outputs": [],
   "source": [
    "Grader.run_single_test_inline(TestPSet9, \"test_19\", locals())"
   ]
  },
  {
   "cell_type": "markdown",
   "id": "df02b4ab-1504-4bd5-82bb-2611487386f4",
   "metadata": {},
   "source": [
    "# 2 <a id=\"IPs\">Integer Programming</a>"
   ]
  },
  {
   "cell_type": "markdown",
   "id": "69082868-1488-4e60-b058-d0456eb7ff8f",
   "metadata": {},
   "source": [
    "Now let us turn our attention to integer programs, where the decision variables must take integer values. \n",
    "\n",
    "A common example of an integer program is the knapsack problem, as follows. You have a knapsack with a maximum weight capacity of 15N. There are five items available, each with a weight and value as follows:\n",
    "* Item 1: Weight = 4N, Value = 8\n",
    "* Item 2: Weight = 5N, Value = 12\n",
    "* Item 3: Weight = 3N, Value = 6\n",
    "* Item 4: Weight = 7N, Value = 14\n",
    "* Item 5: Weight = 6N, Value = 10\n",
    "\n",
    "There is only one of each item (e.g., two of item 1 cannot be added). Our objective is to maximize the value of the items we can carry in our knapsack.\n",
    "\n",
    "### <a id=\"IPasLP\">2.1 An IP as an LP.</a> (16 points)\n",
    "\n",
    "#### 2.1.0 Let us first solve this as an LP, without enforcing the decision variables to be integers. \n",
    "\n",
    "Again, keep the ordering of the object variables as above (e.g., $x_1$ is the first item, $x_2$ is the second, etc.)"
   ]
  },
  {
   "cell_type": "code",
   "execution_count": null,
   "id": "68663239-0a6d-40e9-aba4-9006bdd689b4",
   "metadata": {},
   "outputs": [],
   "source": [
    "## Enter your answer by changing the assignment expression below, \n",
    "# e.g., \n",
    "# lp_soln_knapsack_no_enforce = linprog(...)\n",
    "lp_soln_knapsack_no_enforce = None\n",
    "## Remember to set up the objective and constraint matrices first. \n"
   ]
  },
  {
   "cell_type": "code",
   "execution_count": null,
   "id": "56e11955-616f-4f38-9513-2a7725c0352c",
   "metadata": {},
   "outputs": [],
   "source": [
    "Grader.run_single_test_inline(TestPSet9, \"test_20\", locals())"
   ]
  },
  {
   "cell_type": "markdown",
   "id": "8ed48382-e52d-4456-8145-7bf103532900",
   "metadata": {},
   "source": [
    "### 2.1.1 You should have actually got an integer solution! How many items were you able to pack? "
   ]
  },
  {
   "cell_type": "code",
   "execution_count": null,
   "id": "645603ae-ff7e-4eb2-8063-5cbb1b64cc4b",
   "metadata": {},
   "outputs": [],
   "source": [
    "## Enter your answer by changing the assignment expression below, e.g., num_items = 17\n",
    "num_items = None\n"
   ]
  },
  {
   "cell_type": "code",
   "execution_count": null,
   "id": "2913b944-14a2-4b01-abfb-a30af0b58dff",
   "metadata": {},
   "outputs": [],
   "source": [
    "Grader.run_single_test_inline(TestPSet9, \"test_21\", locals())"
   ]
  },
  {
   "cell_type": "markdown",
   "id": "783bfd65-7a37-41a7-ac0f-7666661f3f9b",
   "metadata": {},
   "source": [
    "### 2.1.2 What is the total weight you are packing? "
   ]
  },
  {
   "cell_type": "code",
   "execution_count": null,
   "id": "f2d7e6e3-bf24-449b-8830-fc1f5db026fb",
   "metadata": {},
   "outputs": [],
   "source": [
    "## Enter your answer by changing the assignment expression below, e.g., weight_initial = 200\n",
    "weight_initial = None\n"
   ]
  },
  {
   "cell_type": "code",
   "execution_count": null,
   "id": "d7e72541-0890-453e-82a0-f59b115c67a1",
   "metadata": {},
   "outputs": [],
   "source": [
    "Grader.run_single_test_inline(TestPSet9, \"test_22\", locals())"
   ]
  },
  {
   "cell_type": "markdown",
   "id": "f2320c50-0492-43be-aee8-51bd7fcf651b",
   "metadata": {},
   "source": [
    "### 2.1.3 Oh drat, we miscalculated the weight of the 4th item -- it's actually 8N, not 7. Please recompute your answer. "
   ]
  },
  {
   "cell_type": "code",
   "execution_count": null,
   "id": "0849ec0c-b165-46ef-af93-2a7e194669bb",
   "metadata": {},
   "outputs": [],
   "source": [
    "## Enter your answer by changing the assignment expression below, \n",
    "# e.g., \n",
    "# lp_soln_updated = linprog(...)\n",
    "lp_soln_updated = None\n"
   ]
  },
  {
   "cell_type": "code",
   "execution_count": null,
   "id": "e68147a5-c439-4009-b354-eae93f3b8aca",
   "metadata": {},
   "outputs": [],
   "source": [
    "Grader.run_single_test_inline(TestPSet9, \"test_23\", locals())"
   ]
  },
  {
   "cell_type": "markdown",
   "id": "d079ef01-dadb-4ff8-9b74-066d3aac146e",
   "metadata": {},
   "source": [
    "### 2.1.4 That linear program should no longer have an integer solution. What is the total weight you are now packing? (Assuming fractional items are allowed)"
   ]
  },
  {
   "cell_type": "code",
   "execution_count": null,
   "id": "1e985777-84c8-4354-a2cf-3264b9916608",
   "metadata": {},
   "outputs": [],
   "source": [
    "## Enter your answer by changing the assignment expression below, e.g., weight_no_longer_linear = 200\n",
    "weight_no_longer_linear = None\n"
   ]
  },
  {
   "cell_type": "code",
   "execution_count": null,
   "id": "1c54f691-8100-4d01-a339-999d5cd15337",
   "metadata": {},
   "outputs": [],
   "source": [
    "Grader.run_single_test_inline(TestPSet9, \"test_24\", locals())"
   ]
  },
  {
   "cell_type": "markdown",
   "id": "568028ab-22a5-4c48-a573-b3220fd65126",
   "metadata": {},
   "source": [
    "### 2.1.5 What is the value of the total packed goods? (Assuming fractional items are allowed)"
   ]
  },
  {
   "cell_type": "code",
   "execution_count": null,
   "id": "45dc7128-8eb0-4d88-975c-b626148fa4a5",
   "metadata": {},
   "outputs": [],
   "source": [
    "## Enter your answer by changing the assignment expression below, e.g., value_no_longer_linear = 200\n",
    "value_no_longer_linear = None\n"
   ]
  },
  {
   "cell_type": "code",
   "execution_count": null,
   "id": "32be7aed-6837-4225-9e3b-aa85155d8b2d",
   "metadata": {},
   "outputs": [],
   "source": [
    "Grader.run_single_test_inline(TestPSet9, \"test_25\", locals())"
   ]
  },
  {
   "cell_type": "markdown",
   "id": "387c72a8-e539-4121-b568-dfd3a9d3df9d",
   "metadata": {},
   "source": [
    "### <a id=\"knapsack\">2.2 The knapsack problem as an IP (12 points)</a>\n",
    "\n",
    "Ok, so this knapsack problem is a little thornier. We'll need to use the `scipy.optimize.milp` tool now, and tell the solver that the decision variables need to be integers. Our constraints and objective are the same, but we'll need to make two changes to the encoding to account for differences between what `linprog` expects and what `milp` expects. \n",
    "\n",
    "At this point, it would be good idea to consult the [scipy docs](https://docs.scipy.org/doc/scipy/reference/generated/scipy.optimize.milp.html#scipy.optimize.milp) for how to use `milp`. \n",
    "\n",
    "#### 2.2.0 \n",
    "The first difference is that `milp` expects not only the upper bound constraints but also lower-bound constraints. In this case, we don't have any lower bounds, so we set `b_l` to be `-inf`. (Check the `milp` docs for how to do this.)"
   ]
  },
  {
   "cell_type": "code",
   "execution_count": null,
   "id": "a0781791-7a3d-4536-948e-d90528fab405",
   "metadata": {},
   "outputs": [],
   "source": [
    "## Enter your answer by changing the assignment expression below, e.g., b_l_knapsack = [1, 2, 3]\n",
    "b_l_knapsack = []\n"
   ]
  },
  {
   "cell_type": "code",
   "execution_count": null,
   "id": "429d6419-7709-4f55-8576-34cab4dcda3f",
   "metadata": {},
   "outputs": [],
   "source": [
    "Grader.run_single_test_inline(TestPSet9, \"test_26\", locals())"
   ]
  },
  {
   "cell_type": "markdown",
   "id": "530e5a28-3a5c-495b-9079-99156b04b19f",
   "metadata": {},
   "source": [
    "### 2.2.1 \n",
    "The second difference is that `milp` needs the constraints to be collected up into a `LinearConstraint` object. "
   ]
  },
  {
   "cell_type": "code",
   "execution_count": null,
   "id": "045d7a01-592e-472b-a9b7-6d0b435f8701",
   "metadata": {},
   "outputs": [],
   "source": [
    "## Enter your answer by changing the assignment expression below, e.g., constraints_knapsack = LinearConstraint(...)\n",
    "constraints_knapsack = None\n"
   ]
  },
  {
   "cell_type": "markdown",
   "id": "4a85198f-6e49-4e09-8e74-0b729cc24aa6",
   "metadata": {},
   "source": [
    "### 2.2.2 \n",
    "We now need to tell the MILP solver which of our decision variables are integral, which in our case, is all of them, which is why it is an integer program, and not a mixed integer-linear program. (Check the `milp` docs for how to do this.)"
   ]
  },
  {
   "cell_type": "code",
   "execution_count": null,
   "id": "0b432a4a-d1dd-4420-88ea-5ef2c8bc3c7c",
   "metadata": {},
   "outputs": [],
   "source": [
    "## Enter your answer by changing the assignment expression below, e.g., integrality = []\n",
    "integrality_knapsack = None\n"
   ]
  },
  {
   "cell_type": "code",
   "execution_count": null,
   "id": "553f976c-4282-4f22-bb5b-ec2a07bea1b4",
   "metadata": {},
   "outputs": [],
   "source": [
    "# 27 was removed intentionally\n",
    "Grader.run_single_test_inline(TestPSet9, \"test_28\", locals())"
   ]
  },
  {
   "cell_type": "markdown",
   "id": "8fb66272-8c0c-4aef-b138-2a1c537e0892",
   "metadata": {},
   "source": [
    "### 2.2.3 \n",
    "Let us now call our MILP solver on our knapsack problem. "
   ]
  },
  {
   "cell_type": "code",
   "execution_count": null,
   "id": "ce987666-1452-45f4-b569-29fd5a82c6cb",
   "metadata": {},
   "outputs": [],
   "source": [
    "## Enter your answer by changing the assignment expression below, e.g., ip_soln_knapsack = milp(...)\n",
    "ip_soln_knapsack = None\n"
   ]
  },
  {
   "cell_type": "code",
   "execution_count": null,
   "id": "2da37eb9-229f-4714-b783-52d9fcd9f6ff",
   "metadata": {},
   "outputs": [],
   "source": [
    "Grader.run_single_test_inline(TestPSet9, \"test_29\", locals())"
   ]
  },
  {
   "cell_type": "markdown",
   "id": "3a75d893-642a-406e-b2db-b525c4852f9b",
   "metadata": {},
   "source": [
    "### 2.2.4 What is the total weight you are now packing? "
   ]
  },
  {
   "cell_type": "code",
   "execution_count": null,
   "id": "e94624d3-05e0-4ee9-b19f-aa2a3a7e5a40",
   "metadata": {},
   "outputs": [],
   "source": [
    "## Enter your answer by changing the assignment expression below, e.g., weight_ip = 200\n",
    "weight_ip = None\n"
   ]
  },
  {
   "cell_type": "code",
   "execution_count": null,
   "id": "5f06cff9-f667-4293-a6df-1c5b68564821",
   "metadata": {},
   "outputs": [],
   "source": [
    "Grader.run_single_test_inline(TestPSet9, \"test_30\", locals())"
   ]
  },
  {
   "cell_type": "markdown",
   "id": "c839e9b6-ad58-45be-b088-d5cdd742e8b4",
   "metadata": {},
   "source": [
    "### 2.2.5 \n",
    "Did we give up anything by forcing the decision variables to be integers? Is the IP solution better or worse than the LP solution?"
   ]
  },
  {
   "cell_type": "code",
   "execution_count": null,
   "id": "dc35de22-ebdc-4e52-aceb-a8e137657de2",
   "metadata": {},
   "outputs": [],
   "source": [
    "## Enter your answer by changing the assignment expression below, e.g., change_ip = 'better' or change_ip = 'worse' \n",
    "change_ip = None\n"
   ]
  },
  {
   "cell_type": "code",
   "execution_count": null,
   "id": "b515f791-2157-45b8-81ad-efbf1b0e5c39",
   "metadata": {},
   "outputs": [],
   "source": [
    "Grader.run_single_test_inline(TestPSet9, \"test_31\", locals())"
   ]
  },
  {
   "cell_type": "markdown",
   "id": "a7cccb33-15e0-4f8d-ac88-47623e341bcc",
   "metadata": {},
   "source": [
    "# <a id=\"MILP\">3 Mixed Integer Linear Programming (30 points)</a>"
   ]
  },
  {
   "cell_type": "markdown",
   "id": "9f98aaa7-2996-4e3f-aa64-4236e4ff7a33",
   "metadata": {},
   "source": [
    "### <a id=\"MILP-satellite\">3.1 Satellite allocation (16 points)</a>\n",
    "\n",
    "Let's go back to our satellite constellation. Remember that we had decided that partial images were still of value, and we let the solver choose fractional images. However, GPUs can be finicky things to work with. If we're going to have an image processed by the GPU, we're going to need to commit to sending an entire image down to the GPU. \n",
    "\n",
    "Recall from 1.3 that we had the following objective: \n",
    "* The utility per image is 20, 12, 30, and 15 for the first, second, third, and fourth image type, respectively. \n",
    "\n",
    "and the following resource constraints:\n",
    "* We cannot generate more than 50 images per second total \n",
    "* Each of the first image type requires 3% of the CPU but not the GPU. Each of the second image type requires 2% of the CPU and 1% of the GPU cores. Each of the third image requires 2% of the CPU and 5% of the GPU cores. Finally, producing each of the fourth image type requires 3% of the GPU cores, and only the GPU.\n",
    "* And we want to ensure that we get at least one entire image of each type.\n",
    "* But now we want any image that relies on the GPU to be an entire image.\n",
    "\n",
    "### 3.1.1 \n",
    "Since we will have some integer decision variables, and some non-integer decision variables, our problem is now a mixed-integer linear program. Let's use `milp` to solve this. \n",
    "\n",
    "There are actually two ways to solve this, either using a lower bound constraint on the decision variables, or by changing the problem statement (one approach to solving 1.3). We will accept either problem formulation, but you need to get the same solution. "
   ]
  },
  {
   "cell_type": "code",
   "execution_count": null,
   "id": "cca38400-c31b-4f69-890a-38d1445bee57",
   "metadata": {},
   "outputs": [],
   "source": [
    "## Enter your answer by changing the assignment expression below, e.g., image_allocation = [] \n",
    "## Your answer should be the rate assigned to each camera IN ORDER\n",
    "image_allocation = []\n"
   ]
  },
  {
   "cell_type": "code",
   "execution_count": null,
   "id": "97e5e453-2282-450b-a12a-12919bafc3da",
   "metadata": {},
   "outputs": [],
   "source": [
    "Grader.run_single_test_inline(TestPSet9, \"test_32\", locals())"
   ]
  },
  {
   "cell_type": "markdown",
   "id": "fea2ef6d-213b-4809-99b2-4f8feb557187",
   "metadata": {},
   "source": [
    "### 3.1.2 \n",
    "Notice that in this case, we still ended up with an all-integer solution. What happens if we relax the integer constraint on the 3rd image as well? "
   ]
  },
  {
   "cell_type": "code",
   "execution_count": null,
   "id": "a9b437c7-2e24-4c32-af94-8f51726a23b2",
   "metadata": {},
   "outputs": [],
   "source": [
    "## Enter your answer by changing the assignment expression below, e.g., image_allocation_relaxed = [] \n",
    "## Your answer should be the rate assigned to each camera \n",
    "image_allocation_relaxed = []\n",
    " "
   ]
  },
  {
   "cell_type": "code",
   "execution_count": null,
   "id": "d5dbc2ff-4c6a-459d-bf2a-10d0de8b1cee",
   "metadata": {},
   "outputs": [],
   "source": [
    "Grader.run_single_test_inline(TestPSet9, \"test_33\", locals())"
   ]
  },
  {
   "cell_type": "markdown",
   "id": "c09b28b1-1a01-4b92-a207-7defe3aff3c9",
   "metadata": {},
   "source": [
    "### <a href='disjunction'>3.2 Handling disjunction (16 points)</a>\n",
    "\n",
    "Our computational architectures is even more complex than we thought! We can actually allocate cameras in a couple of different ways, with different resource loads. \n",
    "\n",
    "* We still cannot generate more than 50 images per second total. \n",
    "* But in reality, each of the first image type can require either 3% of the CPU *or* 1% of the GPU. But we have to decide: either all of the images from camera 1 are going to the CPU, or to the GPU.\n",
    "* Each of the second image type can require 2% of the CPU *or* 1% of the GPU cores. And the same constraint: all of the images have to go to the CPU or the GPU. \n",
    "* Each of the third image type requires 2% of the CPU and 5% of the GPU cores. \n",
    "* Finally, producing each of the fourth image type requires 3% of the GPU cores, and only the GPU.\n",
    "* The same value of the images holds, we still want at least one image per second of each type.\n",
    "* Let's make our lives easier and require all the decision variables be integers. \n",
    "\n",
    "#### 3.2.1 \n",
    "Let's solve our image allocation using these constraints. "
   ]
  },
  {
   "cell_type": "code",
   "execution_count": null,
   "id": "010c7785-9407-4b28-af13-f5399a333601",
   "metadata": {},
   "outputs": [],
   "source": [
    "## Enter your answer by changing the assignment expression below, e.g., image_allocation_multiple = [] \n",
    "## Your answer should be the rate assigned to each camera (only 4 numbers) \n",
    "image_allocation_multiple = []\n"
   ]
  },
  {
   "cell_type": "code",
   "execution_count": null,
   "id": "3cc2cbe8-9e82-4673-b6e0-b81c7b3e30d6",
   "metadata": {},
   "outputs": [],
   "source": [
    "Grader.run_single_test_inline(TestPSet9, \"test_34\", locals())"
   ]
  },
  {
   "cell_type": "markdown",
   "id": "b47a87a5-5b2a-43e1-a6ca-255f6cc9dace",
   "metadata": {},
   "source": [
    "### 3.2.2 \n",
    "Where does the optimal configuration process the first two images? "
   ]
  },
  {
   "cell_type": "code",
   "execution_count": null,
   "id": "606b30f7-ed65-4618-a237-7012a32e2e44",
   "metadata": {},
   "outputs": [],
   "source": [
    "## Enter your answer by giving a list of processors e.g., process_location = ['cpu', 'gpu']\n",
    "## Your list should be of length 2 \n",
    "process_location = []\n"
   ]
  },
  {
   "cell_type": "code",
   "execution_count": null,
   "id": "c57e6d3f-e975-474f-a401-230177554949",
   "metadata": {},
   "outputs": [],
   "source": [
    "Grader.run_single_test_inline(TestPSet9, \"test_35\", locals())"
   ]
  },
  {
   "cell_type": "markdown",
   "id": "892cac08-d148-4fb5-9975-89d01da9528e",
   "metadata": {},
   "source": [
    "### 3.2.3 \n",
    "What is the total utility of this configuration? "
   ]
  },
  {
   "cell_type": "code",
   "execution_count": null,
   "id": "04cf1b81-186e-43c9-826f-8504776798a2",
   "metadata": {},
   "outputs": [],
   "source": [
    "## Enter your answer by giving a value e.g., utility = 1\n",
    "utility_multiple = None\n"
   ]
  },
  {
   "cell_type": "code",
   "execution_count": null,
   "id": "9f27ea00-85c9-4282-ba63-65f114ce7b90",
   "metadata": {},
   "outputs": [],
   "source": [
    "Grader.run_single_test_inline(TestPSet9, \"test_36\", locals())"
   ]
  },
  {
   "cell_type": "markdown",
   "id": "e18443f6-5930-4b29-a395-7be6d9c7f14d",
   "metadata": {},
   "source": [
    "### 3.2.4 \n",
    "Is this a unique solution or is there another solution? If there is no alternative, answer None. If there is another solution, please list it. "
   ]
  },
  {
   "cell_type": "code",
   "execution_count": null,
   "id": "9773c1c9-ea06-48eb-91d5-e309e2b2ac30",
   "metadata": {},
   "outputs": [],
   "source": [
    "## Enter your answer with either None or a list of processors e.g., solution = ['cpu', 'gpu']\n",
    "alternate_solution = None\n"
   ]
  },
  {
   "cell_type": "code",
   "execution_count": null,
   "id": "a0d232aa-8409-4013-9628-0107e18fe8f4",
   "metadata": {},
   "outputs": [],
   "source": [
    "Grader.run_single_test_inline(TestPSet9, \"test_37\", locals())"
   ]
  },
  {
   "cell_type": "markdown",
   "id": "ffb01886-b5be-4d79-b586-b92918fdf6ba",
   "metadata": {},
   "source": [
    "### <a id=\"wrap\">3.3 Wrapping up (6 points)</a>\n",
    "\n",
    "To finish up this problem set, let us relax at the local watering hole in our hometown of Springfield. But alas, we need to help the barkeep Moe! \n",
    "\n",
    "Moe needs to decide how much Regular Duff beer and how much Duff Strong beer to order each week. Regular Duff costs Moe \\$1 per pint and he sells it at \\$2 per pint; Duff Strong costs Moe \\$1.50 per pint and he sells it at \\$3 per pint. However, as part of a complicated marketing scam, the Duff company will only sell a pint of Duff Strong for each two pints or more of Regular Duff that Moe buys. Furthermore, due to past events that are better left untold, Duff will not sell Moe more than 3,000 pints per week. Moe knows that he can sell however much beer he has. Formulate a program for deciding how much Regular Duff and how much Duff Strong to buy for the week, so as to maximize Moe’s profit. "
   ]
  },
  {
   "cell_type": "code",
   "execution_count": null,
   "id": "0d829d27-1e8e-458d-9825-39765fa247f7",
   "metadata": {},
   "outputs": [],
   "source": [
    "## Enter your answer by changing the assignment expression below, e.g., beer_order = {'regular': 10, 'strong': 5} \n",
    "## Your answer should be the rate assigned to each camera \n",
    "beer_order = {'regular': 0, 'strong': 0} \n",
    "                \n",
    " "
   ]
  },
  {
   "cell_type": "code",
   "execution_count": null,
   "id": "c0bd527b-8e3a-4e3c-ae75-309dd09c5c9c",
   "metadata": {},
   "outputs": [],
   "source": [
    "Grader.run_single_test_inline(TestPSet9, \"test_38\", locals())"
   ]
  },
  {
   "cell_type": "markdown",
   "id": "5ffacc2e",
   "metadata": {},
   "source": [
    "# <a name=\"part4\"></a> Time Spent on Pset (5 points)\n",
    "\n",
    "Please use [this form](https://forms.gle/q1zh86bSCX3ou1Xj6) to tell us how long you spent on this pset. After you submit the form, the form will give you a confirmation word. Please enter that confirmation word below to get an extra 5 points. "
   ]
  },
  {
   "cell_type": "code",
   "execution_count": null,
   "id": "3532794d",
   "metadata": {},
   "outputs": [],
   "source": [
    "form_confirmation_word = \"\" #\"ENTER THE CONFIRMATION WORD HERE\"\n"
   ]
  },
  {
   "cell_type": "code",
   "execution_count": null,
   "id": "1f41dc11",
   "metadata": {},
   "outputs": [],
   "source": [
    "Grader.grade_output([TestPSet9], [locals()], \"results.json\")\n",
    "Grader.print_test_results(\"results.json\")"
   ]
  },
  {
   "cell_type": "code",
   "execution_count": null,
   "id": "46556f04",
   "metadata": {},
   "outputs": [],
   "source": []
  }
 ],
 "metadata": {
  "colab": {
   "name": "hw04.ipynb",
   "provenance": []
  },
  "kernelspec": {
   "display_name": "Python 3 (ipykernel)",
   "language": "python",
   "name": "python3"
  },
  "language_info": {
   "codemirror_mode": {
    "name": "ipython",
    "version": 3
   },
   "file_extension": ".py",
   "mimetype": "text/x-python",
   "name": "python",
   "nbconvert_exporter": "python",
   "pygments_lexer": "ipython3",
   "version": "3.10.6"
  }
 },
 "nbformat": 4,
 "nbformat_minor": 5
}

{
 "cells": [
  {
   "cell_type": "markdown",
   "metadata": {},
   "source": [
    "### Problem Set 06: Probability and Bayes Nets\n",
    "\n",
    "In this problem set, you will check your understanding of probability and Bayes Nets, and implement some basic algorithms.\n",
    "\n",
    "\n",
    "0. [Credit for Contributors (required)](#contributors)\n",
    "\n",
    "1. [Probability (30 points)](#problem1)\n",
    "  * [Axioms of Probability (10 points)](#axioms)\n",
    "  * [Probabilistic Models of Travel Time (20 points)](#travel)\n",
    "2. [Bayes Nets (35 points)](#problem2)\n",
    "    * [Aircraft Models (15 points)](#aircraft)\n",
    "    * [Satellite Models (20 points)](#satellites)\n",
    "3. [Bayes Net Algorithms](#problem3)\n",
    "    * [Bayes Net warmups (10 points)](#warmups)\n",
    "    * [Bayes Net CPTs (10 points)](#cpts)\n",
    "    * [Inference in Bayes Nets (10 points)](#inference)\n",
    "4. [Homework survey (5 points)](#part3)\n",
    "    \n",
    "**100 points** total for Problem Set 5"
   ]
  },
  {
   "cell_type": "markdown",
   "metadata": {},
   "source": [
    "## <a id=\"contributors\"></a> Credit for Contributors\n",
    "\n",
    "List the various students, lecture notes, or online resouces that helped you complete this problem set:\n",
    "\n",
    "Ex: I worked with Bob on the cat activity planning problem.\n",
    "\n",
    "<div class=\"alert alert-info\">\n",
    "Write your answer in the cell below this one.\n",
    "</div>"
   ]
  },
  {
   "cell_type": "markdown",
   "metadata": {},
   "source": [
    "--> *(double click on this cell to delete this text and type your answer here)*"
   ]
  },
  {
   "cell_type": "code",
   "execution_count": null,
   "metadata": {},
   "outputs": [],
   "source": [
    "# Be sure to run the cell below to import the code needed for this assignment.\n",
    "from __future__ import division\n",
    "\n",
    "%matplotlib inline\n",
    "import numpy as np\n",
    "import matplotlib as mpl\n",
    "import matplotlib.pyplot as plt\n",
    "import copy\n",
    "from collections import namedtuple\n",
    "import itertools\n",
    "\n",
    "# imports for autograder\n",
    "from principles_of_autonomy.grader import Grader\n",
    "from principles_of_autonomy.notebook_tests.pset_6 import TestPSet6"
   ]
  },
  {
   "cell_type": "markdown",
   "metadata": {},
   "source": [
    "## <a id=\"problem1\">Problem 1: Probability (30 points)</a> \n"
   ]
  },
  {
   "cell_type": "markdown",
   "metadata": {},
   "source": [
    "## 1.1 <a id=\"axioms\">Axioms of Probability (10 points)</a>"
   ]
  },
  {
   "cell_type": "markdown",
   "metadata": {},
   "source": [
    "Assume that A and B are binary random variables. Which of the following expressions are equivalent to $Pr(A=0∣B=0)$?\n",
    "\n",
    "1. $\\frac{\\Pr(A=0,~B=0)}{\\Pr(B=0,~A=1) + \\Pr(B=0,~A=0)}$\n",
    "2. $\\frac{\\Pr(B=0~|~A=0)\\Pr(A=0)}{\\Pr(A=0,~B=0) + \\Pr(A=1,~B=0)}$\n",
    "3. $\\frac{\\Pr(A=0,~B=0)}{\\Pr(A=0)}$\n",
    "4. $\\frac{\\Pr(A=0,~B=0)}{\\Pr(B=0)}$\n",
    "5. $\\frac{\\Pr(B=0~|~A=0)\\Pr(A=0)}{\\Pr(B=0~|~A=0)\\Pr(A=0) + \\Pr(B=0~|~A=1)\\Pr(A=1)}$ \n",
    "6. $\\frac{\\Pr(A=0)}{\\Pr(B=0)}$ \n",
    "7. $\\frac{\\Pr(B=0~|~A=0)\\Pr(A=0)}{\\Pr(B=0)}$\n",
    "8. $\\Pr(B=0~|~A=0) \\Pr(A=0)$\n",
    "9. $\\Pr(B=0~|~A=0)$\n",
    "\n",
    "Please enter your answer as a python tuple of numbers in the box below."
   ]
  },
  {
   "cell_type": "code",
   "execution_count": 5,
   "metadata": {},
   "outputs": [],
   "source": [
    "## Enter your answer in the tuple below, e.g., q1_answer = (1, 2, 3)\n",
    "q1_answer = () "
   ]
  },
  {
   "cell_type": "code",
   "execution_count": null,
   "metadata": {},
   "outputs": [],
   "source": [
    "# test_1\n",
    "Grader.run_single_test_inline(TestPSet6, \"test_1\", locals())"
   ]
  },
  {
   "cell_type": "markdown",
   "metadata": {},
   "source": [
    "Which of the following statements are always true? (Assume A and B are binary variables).\n",
    "\n",
    "1. $P(A=1) \\geq P(A=1,~B=1)$\n",
    "2. $P(A=1) \\leq P(A=1,~B=1)$\n",
    "3. $P(A=1) = P(A=1,~B=1) + P(A=1,~B=0)$\n",
    "4. $P(A=1,B=1) = P(A=1)P(B=1)$\n",
    "5. $P(A=1~|~B=1) \\geq P(A=1)$\n",
    "6. $P(A=1~|~B=1) \\geq P(A=1,~B=1)$\n",
    "\n",
    "Please enter your answer as a python tuple of numbers in the box below."
   ]
  },
  {
   "cell_type": "code",
   "execution_count": 7,
   "metadata": {},
   "outputs": [],
   "source": [
    "## Enter your answer in the tuple below, e.g., q2_answer = (1, 2, 3)\n",
    "q2_answer = () "
   ]
  },
  {
   "cell_type": "code",
   "execution_count": null,
   "metadata": {},
   "outputs": [],
   "source": [
    "# test_2\n",
    "Grader.run_single_test_inline(TestPSet6, \"test_2\", locals())"
   ]
  },
  {
   "cell_type": "markdown",
   "metadata": {},
   "source": [
    "## 1.2 <a id=\"travel\">Probabilistic Models of Travel Time (20 points)</a>"
   ]
  },
  {
   "cell_type": "markdown",
   "metadata": {},
   "source": [
    "After running late many days in a row, you decide to do some probabilistic modeling of your morning commute, in an effort to make sure you can always get to 16.410 on time :)\n",
    "\n",
    "* Let $L$ be a random variable that takes value 1 if you are running late leaving the house, and 0 otherwise.\n",
    "* Let $T$ be a random variable that takes value 1 if you get stuck behind a train, and 0 otherwise. (Assume we're at the far end of the E line where this will actually happen).\n",
    "* Let $G$ be a random variable that takes value 1 if you get a green light at Vassar and Mass Ave, and 0 otherwise.\n",
    "\n",
    "Consider the following table of probabilities:\n",
    "<center>\n",
    "<table border=\"2\">\n",
    "<tr>\n",
    "<td></td><th style=\"text-align:center;\">T=1</th><th style=\"text-align:center;\">T=0</th>\n",
    "</tr>\n",
    "<tr>\n",
    "<th style=\"text-align:center;\">L=1</th><td style=\"text-align:center;\">0.70</td><td style=\"text-align:center;\">0.10</td>\n",
    "</tr>\n",
    "<tr>\n",
    "<th style=\"text-align:center;\">L=0</th><td style=\"text-align:center;\">0.06</td><td style=\"text-align:center;\">0.14</td>\n",
    "</tr>\n",
    "</table>\n",
    "</center>\n",
    "\n",
    "\n",
    "Enter a single value for `qXX_answer` in each of the following boxes, accurate to three digits after the decimal point, e.g., `q3_answer = .05`.\n",
    "<b>It is also fine to type in a python expression (like `q3_answer = 2.0 / 3.0)</b>.\n"
   ]
  },
  {
   "cell_type": "markdown",
   "metadata": {},
   "source": [
    "What is the probability that you are running late?"
   ]
  },
  {
   "cell_type": "code",
   "execution_count": 9,
   "metadata": {},
   "outputs": [],
   "source": [
    "## Enter your answer by changing the assignment expression below, e.g., q3_answer = 0.5\n",
    "q3_answer = 0 "
   ]
  },
  {
   "cell_type": "code",
   "execution_count": null,
   "metadata": {},
   "outputs": [],
   "source": [
    "# test_3\n",
    "Grader.run_single_test_inline(TestPSet6, \"test_3\", locals())"
   ]
  },
  {
   "cell_type": "markdown",
   "metadata": {},
   "source": [
    "What is the probability that you get stuck behind a train, given that you are running late?"
   ]
  },
  {
   "cell_type": "code",
   "execution_count": 11,
   "metadata": {},
   "outputs": [],
   "source": [
    "## Enter your answer by changing the assignment expression below, e.g., q4_answer = 0.5\n",
    "q4_answer = 0 "
   ]
  },
  {
   "cell_type": "code",
   "execution_count": null,
   "metadata": {},
   "outputs": [],
   "source": [
    "# test_4\n",
    "Grader.run_single_test_inline(TestPSet6, \"test_4\", locals())"
   ]
  },
  {
   "cell_type": "markdown",
   "metadata": {},
   "source": [
    "What is the total probability that you get stuck behind a train?"
   ]
  },
  {
   "cell_type": "code",
   "execution_count": 13,
   "metadata": {},
   "outputs": [],
   "source": [
    "## Enter your answer by changing the assignment expression below, e.g., q5_answer = 0.5\n",
    "q5_answer = 0 "
   ]
  },
  {
   "cell_type": "code",
   "execution_count": null,
   "metadata": {},
   "outputs": [],
   "source": [
    "# test_5\n",
    "Grader.run_single_test_inline(TestPSet6, \"test_5\", locals())"
   ]
  },
  {
   "cell_type": "markdown",
   "metadata": {},
   "source": [
    "Assume that L and T are related as given in the table above, and that\n",
    "$\\Pr(G = 1 | T = 1) = 0.1$ and $\\Pr(G = 1 | T = 0) = 0.2$, regardless of the value of\n",
    "$L$.\n",
    "\n",
    "What is the probability that you were stuck behind a train given that you got a green light at Vassar and Mass Ave?"
   ]
  },
  {
   "cell_type": "code",
   "execution_count": 15,
   "metadata": {},
   "outputs": [],
   "source": [
    "## Enter your answer by changing the assignment expression below, e.g., q6_answer = 0.5\n",
    "q6_answer = 0 "
   ]
  },
  {
   "cell_type": "code",
   "execution_count": null,
   "metadata": {},
   "outputs": [],
   "source": [
    "# test_6\n",
    "Grader.run_single_test_inline(TestPSet6, \"test_6\", locals())"
   ]
  },
  {
   "cell_type": "markdown",
   "metadata": {},
   "source": [
    "## <a id=\"problem2\">Problem 2: Bayes Nets and Tables (35 points)</a> "
   ]
  },
  {
   "cell_type": "markdown",
   "metadata": {},
   "source": [
    "## <a id=\"aircraft\">2.1 Aircraft Models (15 points)</a>\n",
    "\n",
    "Let's first look at how to go back and forth between Bayes nets and\n",
    "probability tables. Consider the following simple Bayes net, with three\n",
    "variables, $A$, $N$ and $S$. Note that we have only given the values for where the\n",
    "dependent variable is true.\n",
    "\n",
    "<center>\n",
    "<img src=3node_BN.png width=400>\n",
    "</center>\n",
    "\n",
    "How many rows are there in the probability table over the joint distribution of $A$, $N$, and $S$?"
   ]
  },
  {
   "cell_type": "code",
   "execution_count": 17,
   "metadata": {},
   "outputs": [],
   "source": [
    "## Enter your answer by changing the assignment expression below, e.g., q7_answer = 0.5\n",
    "q7_answer = 0 "
   ]
  },
  {
   "cell_type": "code",
   "execution_count": null,
   "metadata": {},
   "outputs": [],
   "source": [
    "# test_7\n",
    "Grader.run_single_test_inline(TestPSet6, \"test_7\", locals())"
   ]
  },
  {
   "cell_type": "markdown",
   "metadata": {},
   "source": [
    "What is the probability that the airspeed is low ($A=T$), the nose is up ($N=T$)\n",
    "and the aircraft is not in stall ($S = F$)? Enter a number that is accurate to within 1.0e-5. You can also enter a python expression that will evaluate to a number (e.g., `3*2 + 4 - 7/11.0`)."
   ]
  },
  {
   "cell_type": "code",
   "execution_count": 19,
   "metadata": {},
   "outputs": [],
   "source": [
    "## Enter your answer by changing the assignment expression below, e.g., q8_answer = 0.5\n",
    "q8_answer = 0 "
   ]
  },
  {
   "cell_type": "code",
   "execution_count": null,
   "metadata": {},
   "outputs": [],
   "source": [
    "# test_8\n",
    "Grader.run_single_test_inline(TestPSet6, \"test_8\", locals())"
   ]
  },
  {
   "cell_type": "markdown",
   "metadata": {},
   "source": [
    "What is the probability that the aircraft is in stall ($S = T$), given that we\n",
    "don't know the air speed or the nose angle?"
   ]
  },
  {
   "cell_type": "code",
   "execution_count": 21,
   "metadata": {},
   "outputs": [],
   "source": [
    "## Enter your answer by changing the assignment expression below, e.g., q9_answer = 0.5\n",
    "q9_answer = 0 "
   ]
  },
  {
   "cell_type": "code",
   "execution_count": null,
   "metadata": {},
   "outputs": [],
   "source": [
    "# test_9\n",
    "Grader.run_single_test_inline(TestPSet6, \"test_9\", locals())"
   ]
  },
  {
   "cell_type": "markdown",
   "metadata": {},
   "source": [
    "## <a id=\"satellites\">2.2 Satellite Models (20 points)</a>\n",
    "\n",
    "Consider the following Bayes net describing the health of a satellite, based on the status of its components:\n",
    "\n",
    "<center>\n",
    "<img src=satellite_BN.png width=300>\n",
    "</center>\n",
    "\n",
    "Ignoring the Bayes net figure above for the next three questions, let's practice manipulating tables.\n",
    "Suppose $P\\left (D = \\begin{bmatrix} F \\\\ T \\end{bmatrix}\\right ) = \\begin{bmatrix}0 \\\\ 1\\end{bmatrix}$, and $P\\left (\\begin{bmatrix} D = F | E = F \\\\ D = T | E = F \\\\ D = F | E = T \\\\ D = T | E = T \\end{bmatrix} \\right ) = \\begin{bmatrix} 0.9 \\\\ .1 \\\\ 0 \\\\ 1 \\end{bmatrix}$. \n",
    "\n",
    "Note that D=T is an observation, and we might want to infer the posterior over E. \n",
    "If we multiply these two factors together, we get a factor containing 4 unnormalised probabilities\n",
    "\n",
    "Please give these unnormalised probabilities as a python list in the order\n",
    "of $P(D=F, E=F), P(D=T, E=F), P(D=F, E=T), P(D=T, E=T)$:"
   ]
  },
  {
   "cell_type": "code",
   "execution_count": 23,
   "metadata": {},
   "outputs": [],
   "source": [
    "## Enter your answer by changing the assignment expression below, e.g., q10_answer = (0, 0 0)\n",
    "q10_answer = ()"
   ]
  },
  {
   "cell_type": "code",
   "execution_count": null,
   "metadata": {},
   "outputs": [],
   "source": [
    "# test_10\n",
    "Grader.run_single_test_inline(TestPSet6, \"test_10\", locals())"
   ]
  },
  {
   "cell_type": "markdown",
   "metadata": {},
   "source": [
    "If we marginalise out D from that factor, we get a new factor with two\n",
    "unnormalised probabilities. (Note that this is not $P(E | D = T)$!  We are missing the prior on $E$.) \n",
    "\n",
    "Please give these unnormalised probabilities as a python\n",
    "list, in order of P(E=F), P(E=T)."
   ]
  },
  {
   "cell_type": "code",
   "execution_count": 25,
   "metadata": {},
   "outputs": [],
   "source": [
    "## Enter your answer by changing the assignment expression below, e.g., q11_answer = (0, 0 0)\n",
    "q11_answer = ()"
   ]
  },
  {
   "cell_type": "code",
   "execution_count": null,
   "metadata": {},
   "outputs": [],
   "source": [
    "# test_11\n",
    "Grader.run_single_test_inline(TestPSet6, \"test_11\", locals())"
   ]
  },
  {
   "cell_type": "markdown",
   "metadata": {},
   "source": [
    "Imagine we want to reverse the arc from C to E. What new tables would be required?\n",
    "\n",
    "1. It is not possible to reverse the arcs in a Bayes net.\n",
    "2. We need $P(E|C)$.\n",
    "3. We need $P(E|C)$ and $P(C)$.\n",
    "4. We need $P(E|B,S,C)$ and $P(C)$.\n",
    "5. We need $P(E|B,S,C)$, $P(C)$ and $P(D)$.\n",
    "6. We need $P(E|B,S,C,D)$, $P(C)$ and $P(D)$.\n",
    "\n",
    "Please pick one of these options as your answer below. "
   ]
  },
  {
   "cell_type": "code",
   "execution_count": 27,
   "metadata": {},
   "outputs": [],
   "source": [
    "## Enter your answer by changing the assignment expression below, e.g., q12_answer = 3\n",
    "q12_answer = 0 "
   ]
  },
  {
   "cell_type": "code",
   "execution_count": null,
   "metadata": {},
   "outputs": [],
   "source": [
    "# test_12\n",
    "Grader.run_single_test_inline(TestPSet6, \"test_12\", locals())"
   ]
  },
  {
   "cell_type": "markdown",
   "metadata": {},
   "source": [
    "Given an observation of a trajectory deviation (see description in the above Bayes net), D=True,\n",
    "and a communication loss, C=True. Which of these gives us the probability of electical system failure, P(E=True)? Note that when we write a summation $\\sum_{B_i}$, we are summing over the $B_i$ different outcomes that $B$ can take, which are True and False for all variables in this question.\n",
    "\n",
    "1. $\\alpha$ P(D=T|E=T) * P(C=T|E=T)\n",
    "2. $\\alpha$ ($\\sum_{D_i}$ P(D_i|E=T)) * ($\\sum_{C_j}$ P(C_j|E=T)) * ($\\sum_{B_k}$ P(E=T|B_k)) * ($\\sum_{S_m}$ P(E=T|S_m))\n",
    "3. $\\alpha$ P(D=T|E=T) * P(C=T|E=T) * ($\\sum_{B_i}$ $\\sum_{S_j}$ P(E=T|B_i,S_j) * P(B_i) * P(S_j))\n",
    "4. $\\alpha$ P(D=T|E=T) * P(C=T|E=T) * P(E=T|B=T) * P(E=T|S=T)\n",
    "5. $\\alpha$ ($\\sum_D$ P(D|E=T)) * ($\\sum_C$ P(C|E=T)) * P(E=T|B) * P(E=T|S)\n",
    "\n",
    "Please pick one of these options as your answer below."
   ]
  },
  {
   "cell_type": "code",
   "execution_count": 29,
   "metadata": {},
   "outputs": [],
   "source": [
    "## Enter your answer by changing the assignment expression below, e.g., q13_answer = 3\n",
    "q13_answer = 0 "
   ]
  },
  {
   "cell_type": "code",
   "execution_count": null,
   "metadata": {},
   "outputs": [],
   "source": [
    "# test_13\n",
    "Grader.run_single_test_inline(TestPSet6, \"test_13\", locals())"
   ]
  },
  {
   "cell_type": "markdown",
   "metadata": {},
   "source": [
    "## 3. Bayes Net Operations (30 points)\n",
    "\n",
    "Let's define some utility classes and methods first, for our random variables and our conditional probability tables. "
   ]
  },
  {
   "cell_type": "code",
   "execution_count": 31,
   "metadata": {},
   "outputs": [],
   "source": [
    "from collections import namedtuple\n",
    "import itertools\n",
    "import numpy as np\n",
    "\n",
    "\n",
    "class RV:\n",
    "    \"\"\"A random variable with a finite domain.\n",
    "\n",
    "    Example usage:\n",
    "      A = RV(\"A\", [\"x\", \"y\", \"z\"])\n",
    "      print(A.domain)\n",
    "      print(A.dim)\n",
    "      B = RV(\"B\", [(0, 0), (0, 1), (0, 2)]))\n",
    "      print(B.domain)\n",
    "      print(B.dim)\n",
    "    \"\"\"\n",
    "\n",
    "    def __init__(self, name, domain):\n",
    "        \"\"\"Initialize a RV.\n",
    "\n",
    "        Args:\n",
    "          name: str name for the RV.\n",
    "          domain: list or tuple of domain values.\n",
    "        \"\"\"\n",
    "        assert isinstance(domain, (list, tuple))\n",
    "        self.name = name\n",
    "        self.domain = domain\n",
    "        self.dim = len(domain)\n",
    "\n",
    "    def __hash__(self):\n",
    "        return hash((self.name, tuple(self.domain)))\n",
    "\n",
    "    def __eq__(self, other):\n",
    "        return self.name == other.name and self.domain == other.domain\n",
    "\n",
    "    def __repr__(self):\n",
    "        return f\"RV('{self.name}', {self.domain})\"\n",
    "\n",
    "\n",
    "class CPT:\n",
    "    \"\"\"A CPT over RVs.\n",
    "\n",
    "    Example usage:\n",
    "      A = RV(\"varA\", [\"x\", \"y\", \"z\"])\n",
    "      B = RV(\"varB\", [0, 1])\n",
    "      table = np.array([\n",
    "        [0.1, 0.0],\n",
    "        [0.4, 0.9],\n",
    "        [0.5, 0.1]\n",
    "      ])\n",
    "      cpt = CPT([A, B], table)\n",
    "      print(CPT.rvs)\n",
    "      print(CPT.get((\"y\", 0)))\n",
    "      print(CPT.get_by_rvs({A: \"y\", B: 0}))\n",
    "      print(CPT.get_by_names({\"varA\": \"y\", \"varB\": 0}))\n",
    "    \"\"\"\n",
    "\n",
    "    def __init__(self, rvs, table):\n",
    "        \"\"\"Create a CPT from a list of RVs and a numpy array.\n",
    "\n",
    "        The order of the random variables corresponds to the axes\n",
    "        of the numpy array.\n",
    "\n",
    "        Args:\n",
    "          rvs: A list or tuple of RVs.\n",
    "          array: A numpy array of CPT values.\n",
    "\n",
    "        Returns:\n",
    "          cpt: A CPT.\"\"\"\n",
    "        assert isinstance(rvs, (tuple, list))\n",
    "        assert len(rvs) == len(table.shape)\n",
    "        assert all(rv.dim == dim for (rv, dim) in zip(rvs, table.shape))\n",
    "        assert isinstance(table, np.ndarray)\n",
    "        self.rvs = rvs\n",
    "        self.table = table\n",
    "\n",
    "    def set(self, assignment, new_value):\n",
    "        \"\"\"Given a complete assignment and a value, update table.\n",
    "\n",
    "        Args:\n",
    "          assignment: A tuple of values in the order of self.rv.\n",
    "          new_value: A new value to add to the table.\n",
    "\n",
    "        Returns:\n",
    "          value: The value in self.table.\n",
    "        \"\"\"\n",
    "        assert len(assignment) == len(self.rvs)\n",
    "        indices = [None for _ in self.rvs]\n",
    "        for index, value in enumerate(assignment):\n",
    "            rv = self.rvs[index]\n",
    "            indices[index] = rv.domain.index(value)\n",
    "        self.table[tuple(indices)] = new_value\n",
    "\n",
    "    def get(self, assignment):\n",
    "        \"\"\"Given a complete assignment of values, lookup table value.\n",
    "\n",
    "        Args:\n",
    "          assignment: A tuple of values in the order of self.rv.\n",
    "\n",
    "        Returns:\n",
    "          value: The value in self.table.\n",
    "        \"\"\"\n",
    "        assert len(assignment) == len(self.rvs)\n",
    "        indices = [None for _ in self.rvs]\n",
    "        for index, value in enumerate(assignment):\n",
    "            rv = self.rvs[index]\n",
    "            indices[index] = rv.domain.index(value)\n",
    "        return self.table[tuple(indices)]\n",
    "\n",
    "    def get_by_rvs(self, rvs_to_vals):\n",
    "        \"\"\"Given a complete assignment of RVs to values, lookup table value.\n",
    "\n",
    "        Args:\n",
    "          rvs_to_values: A dict from RVs to values in their domains.\n",
    "\n",
    "        Returns:\n",
    "          value: The value in self.table.\n",
    "        \"\"\"\n",
    "        assert set(rvs_to_vals.keys()) == set(self.rvs)\n",
    "        indices = [None for _ in self.rvs]\n",
    "        for rv, value in rvs_to_vals.items():\n",
    "            index = self.rvs.index(rv)\n",
    "            indices[index] = rv.domain.index(value)\n",
    "        return self.table[tuple(indices)]\n",
    "\n",
    "    def get_by_names(self, rv_name_dict):\n",
    "        \"\"\"Given a dict from RV names (strs) to assignments,\n",
    "        return the corresponding value in the CPT.\n",
    "\n",
    "        Args:\n",
    "          rv_name_dict: A dict from str names to values.\n",
    "          cpt: A CPT.\n",
    "\n",
    "        Returns:\n",
    "          value: The float value from CPT.\n",
    "        \"\"\"\n",
    "        assert len(rv_name_dict) == len(self.rvs)\n",
    "        rv_name_to_rv = {rv.name: rv for rv in self.rvs}\n",
    "        rvs_to_vals = {}\n",
    "        for rv_name, value in rv_name_dict.items():\n",
    "            rv = rv_name_to_rv[rv_name]\n",
    "            rvs_to_vals[rv] = value\n",
    "        return self.get_by_rvs(rvs_to_vals)\n",
    "\n",
    "    def __hash__(self):\n",
    "        return hash(tuple(self.rvs)) ^ hash(self.table.tobytes())\n",
    "\n",
    "    def __eq__(self, other):\n",
    "        return hash(self) == hash(other)\n",
    "\n",
    "    def __neq__(self, other):\n",
    "        return not (self == other)\n",
    "\n",
    "    def allclose(self, other, decimals=6):\n",
    "        \"\"\"Check whether two CPTs are (nearly) equal.\n",
    "        \"\"\"\n",
    "        if set(self.rvs) != set(other.rvs):\n",
    "            raise ValueError(\"Can only compare CPTs with the same RVs.\")\n",
    "        new_idxs = [other.rvs.index(rv) for rv in self.rvs]\n",
    "        trans_table2 = np.transpose(other.table, new_idxs)\n",
    "        assert self.table.shape == trans_table2.shape\n",
    "        return np.allclose(self.table, trans_table2)\n",
    "\n",
    "\n",
    "def neighbor_dict(rvs, cpts):\n",
    "    \"\"\"This helper function creates a mapping.\n",
    "      - For each random variable rv, neighbors[rv] is a set of CPTs that involve this RV.\n",
    "      - For each CPT cpt, neighbors[cpt] is a set of random variables involved in this CPT.\n",
    "    \"\"\"\n",
    "    neighbors = {v: set() for v in rvs + cpts}\n",
    "    for p in cpts:\n",
    "        for v in p.rvs:\n",
    "            neighbors[p].add(v)\n",
    "            neighbors[v].add(p)\n",
    "    return neighbors\n",
    "\n",
    "InferenceProblem = namedtuple(\"InferenceProblem\",\n",
    "                              [\"rvs\", \"cpts\", \"query\", \"evidence\"])\n",
    "\n",
    "\n",
    "############### Testing problems ###############\n",
    "\n",
    "def create_debug_2vars_problem(version):\n",
    "    \"\"\"A simple problem with two random variables\"\"\"\n",
    "    A = RV(\"A\", [0, 1])\n",
    "    B = RV(\"B\", [0, 1, 2])\n",
    "    rvs = [A, B]\n",
    "    p_a_given_b = CPT([A, B], np.array([\n",
    "        [0.9, 0.15, 0.44],\n",
    "        [0.1, 0.85, 0.56],\n",
    "    ]))\n",
    "    p_b = CPT([B], np.array([0.7, 0.2, 0.1]))\n",
    "    cpts = [p_a_given_b, p_b]\n",
    "    if version == 1:\n",
    "        query = {A: 1}\n",
    "        evidence = {B: 1}\n",
    "    elif version == 2:\n",
    "        query = {B: 1}\n",
    "        evidence = {A: 1}\n",
    "    else:\n",
    "        assert version == 3\n",
    "        query = {A: 1, B: 1}\n",
    "        evidence = {}\n",
    "    return InferenceProblem(rvs, cpts, query, evidence)\n",
    "\n",
    "\n",
    "def create_california_problem(version):\n",
    "    \"\"\"Holmes, watson, earthquakes, radios, oh my...\n",
    "    \"\"\"\n",
    "    p_b = np.array([0.99, 0.01])\n",
    "    p_e = np.array([0.97, 0.03])\n",
    "    p_re = np.array([\n",
    "        [0.98, 0.01],\n",
    "        [0.02, 0.99],\n",
    "    ])\n",
    "    p_aeb = np.zeros((2, 2, 2))\n",
    "    p_aeb[1, 0, 0] = 0.01\n",
    "    p_aeb[0, 0, 0] = 1. - 0.01\n",
    "    p_aeb[1, 0, 1] = 0.2\n",
    "    p_aeb[0, 0, 1] = 1. - 0.2\n",
    "    p_aeb[1, 1, 0] = 0.95\n",
    "    p_aeb[0, 1, 0] = 1. - 0.95\n",
    "    p_aeb[1, 1, 1] = 0.96\n",
    "    p_aeb[0, 1, 1] = 1. - 0.96\n",
    "\n",
    "    A = RV(\"Alarm\", [0, 1])\n",
    "    B = RV(\"Burglar\", [0, 1])\n",
    "    E = RV(\"Earthquake\", [0, 1])\n",
    "    R = RV(\"Radio\", [0, 1])\n",
    "    rvs = [A, B, E, R]\n",
    "    cpts = [\n",
    "        CPT([B], p_b),\n",
    "        CPT([E], p_e),\n",
    "        CPT([R, E], p_re),\n",
    "        CPT([A, E, B], p_aeb)\n",
    "    ]\n",
    "    if version == \"alarm\":\n",
    "        # P(B=1 | A=1)\n",
    "        query = {B: 1}\n",
    "        evidence = {A: 1}\n",
    "    else:\n",
    "        assert version == \"alarm and earthquake\"\n",
    "        # P(B=1 | A=1, R=1)\n",
    "        query = {B: 1}\n",
    "        evidence = {A: 1, R: 1}\n",
    "    return InferenceProblem(rvs, cpts, query, evidence)\n",
    "\n",
    "def iter_joint_values(rvs):\n",
    "    \"\"\"Iterates over joint assignments for a list of RVs.\n",
    "\n",
    "    Returns an iterator that can be used in a for loop.\n",
    "\n",
    "    Example usage:\n",
    "      for assignment in iter_joint_values(rvs):\n",
    "        print(assignment)  # a tuple\n",
    "        assert assignment[0] in rvs[0].domain\n",
    "\n",
    "    Args:\n",
    "      rvs: A list of RVs.\n",
    "\n",
    "    Yields:\n",
    "      assignment: A tuple of ints representing a joint\n",
    "        assignment of the random variables.\n",
    "    \"\"\"\n",
    "    domains = [rv.domain for rv in rvs]\n",
    "    return itertools.product(*domains)\n",
    "\n",
    "\n",
    "def get_sub_assignment(rvs, assignment, sub_rvs):\n",
    "    \"\"\"Given an assignment of rvs to values, get a subassignment,\n",
    "    that is, a sub-tuple of the given assignment involving only\n",
    "    the given sub_rvs.\n",
    "\n",
    "    Example usage:\n",
    "      x = RV(\"x\", [0, 1])\n",
    "      y = RV(\"y\", [\"a\", \"b\"])\n",
    "      z = RV(\"z\", [3, 5])\n",
    "      rvs = (x, y, z)\n",
    "      assignment = (0, \"b\", 3)\n",
    "      sub_rvs = (z, x)\n",
    "      sub_assignment = get_sub_assignment(rvs, assignment, sub_rvs)\n",
    "      assert sub_assignment == (3, 0)\n",
    "\n",
    "    Args:\n",
    "      rvs: A tuple or list of RVs.\n",
    "      assignment: A tuple or list of values.\n",
    "      sub_rvs: A tuple or list of RVs, a subset of rvs.\n",
    "\n",
    "    Returns:\n",
    "      sub_assignment: A tuple of values.\n",
    "    \"\"\"\n",
    "    assert set(sub_rvs).issubset(set(rvs))\n",
    "    sub_assignment = []\n",
    "    for rv in sub_rvs:\n",
    "        idx = rvs.index(rv)\n",
    "        val = assignment[idx]\n",
    "        sub_assignment.append(val)\n",
    "    return tuple(sub_assignment)"
   ]
  },
  {
   "cell_type": "markdown",
   "metadata": {},
   "source": [
    "### <a id=\"bn-warmups\">3.1 Bayes Net warmups (10 points)</a>\n",
    "\n",
    "Let's do some warmups to make sure we understand how to use the above classes. Let's write a function that returns a CPT following the description in the docstring below.\n",
    "\n",
    "For reference, our solution is **9** line(s) of code."
   ]
  },
  {
   "cell_type": "code",
   "execution_count": 32,
   "metadata": {},
   "outputs": [],
   "source": [
    "def BN_warmup():\n",
    "    '''Creates a CPT involving two RVs.\n",
    "\n",
    "    The RVs should be called \"Rain\" and \"Clouds\".\n",
    "    Their domains should both be [0, 1].\n",
    "    The CPT table should have the following values:\n",
    "    *   Rain=0, Clouds=0 : 0.8\n",
    "    *   Rain=0, Clouds=1 : 0.5\n",
    "    *   Rain=1, Clouds=0 : 0.2\n",
    "    *   Rain=1, Clouds=1 : 0.5\n",
    "\n",
    "    We are expecting your method to return a CPT. This is a class\n",
    "    we have provided for you, and if you examine the colab notebook, you will\n",
    "    see some documentation and some helper functions.\n",
    "    '''\n",
    "    raise NotImplementedError() \n"
   ]
  },
  {
   "cell_type": "code",
   "execution_count": null,
   "metadata": {},
   "outputs": [],
   "source": [
    "# test_14\n",
    "Grader.run_single_test_inline(TestPSet6, \"test_14_BN_warmup\", locals())"
   ]
  },
  {
   "cell_type": "markdown",
   "metadata": {},
   "source": [
    "For second warmup, write a function that queries the given CPT for the specific variable values described in the docstring.\n",
    "\n",
    "For reference, our solution is **1** line(s) of code."
   ]
  },
  {
   "cell_type": "code",
   "execution_count": 34,
   "metadata": {},
   "outputs": [],
   "source": [
    "def BN_warmup2(ab_table):\n",
    "    '''Given a CPT involving RVs 'A' and 'B',\n",
    "    return the value for A = 0, B = 1.\n",
    "    '''\n",
    "    raise NotImplementedError()\n"
   ]
  },
  {
   "cell_type": "code",
   "execution_count": null,
   "metadata": {},
   "outputs": [],
   "source": [
    "# test_15\n",
    "Grader.run_single_test_inline(TestPSet6, \"test_15_BN_warmup2\", locals())"
   ]
  },
  {
   "cell_type": "markdown",
   "metadata": {},
   "source": [
    "### <a id=\"cpts\">3.2 Manipulating Bayes Net CPTs (10 points)</a>\n",
    "\n",
    "Recall that variable elimination consists of two steps: multiplying CPTs together and then marginalizing out variables. Let's implement each of those in turn. \n",
    "\n",
    "Write a function that multiplies a list of CPTs together. (Make sure to refer to the notebook class definitions above, especially the functions `iter_joint_values` and `get_sub_assignment`.)\n",
    "\n",
    "Don't worry abot normalizing the rows to make well-defined conditional probabilities. \n",
    "\n",
    "For reference, our solution is **13** line(s) of code."
   ]
  },
  {
   "cell_type": "code",
   "execution_count": 36,
   "metadata": {},
   "outputs": [],
   "source": [
    "def multiply_tables(tables):\n",
    "    '''Multiply tables together.\n",
    "\n",
    "    Args:\n",
    "      tables: A list of CPTs.\n",
    "\n",
    "    Returns:\n",
    "      result: A new CPT.\n",
    "    '''\n",
    "\n",
    "    raise NotImplementedError()\n"
   ]
  },
  {
   "cell_type": "code",
   "execution_count": null,
   "metadata": {},
   "outputs": [],
   "source": [
    "# test_16\n",
    "Grader.run_single_test_inline(TestPSet6, \"test_16_BN_multiply\", locals())"
   ]
  },
  {
   "cell_type": "markdown",
   "metadata": {},
   "source": [
    "Now write a function that marginalizes out given variables of a table to create a new table. Again, don't worry about normalization. \n",
    "\n",
    "Hint: you may want to use the `array.sum()` function in numpy.\n",
    "\n",
    "For reference, our solution is **4** line(s) of code."
   ]
  },
  {
   "cell_type": "code",
   "execution_count": 38,
   "metadata": {},
   "outputs": [],
   "source": [
    "def marginalize(table, rvs):\n",
    "    '''Create a new table where each rv in rvs has been marginalized out.\n",
    "\n",
    "    Args:\n",
    "      table: A CPT.\n",
    "      rvs: A set of random variables in the table to be marginalized out.\n",
    "\n",
    "    Returns:\n",
    "      new_table: A CPT.\n",
    "    '''\n",
    "    raise NotImplementedError()\n"
   ]
  },
  {
   "cell_type": "code",
   "execution_count": null,
   "metadata": {},
   "outputs": [],
   "source": [
    "# test_17\n",
    "Grader.run_single_test_inline(TestPSet6, \"test_17_BN_marginalize\", locals())"
   ]
  },
  {
   "cell_type": "markdown",
   "metadata": {},
   "source": [
    "### <a id=\"inference\">3.3 Inference in Bayes Nets (10 points)</a>\n",
    "\n",
    "Now let us put these together and see if we can do some simple inference. We're not going to ask you to implement full variable elimination for an arbitrary Bayes net in this assignment, but just perform inference on a two-node Bayes net. \n",
    "\n",
    "Let's use our CPT from the first warmup above as our model of rain and cloudiness. If we have an evidence that it is raining, we can encode this evidence as another CPT as `e = CPT(rvs=[R], table=np.array([1, 0]))`. \n",
    "\n",
    "Write a function that accepts two CPTs, one that is from the first warmup, and a second CPT as evidence, and returns the marginal probability that it is cloudy. For this last question, you should be returning a CPT over a single variable -- please do normalize this distribution before returning it. \n",
    "\n",
    "For reference, our solution is **4** line(s) of code."
   ]
  },
  {
   "cell_type": "code",
   "execution_count": 40,
   "metadata": {},
   "outputs": [],
   "source": [
    "def is_it_cloudy(rain_model, evidence):\n",
    "    '''Infer the marginal probability that it is cloudy, given evidence of rain.  \n",
    "\n",
    "    Args:\n",
    "      rain_model: A CPT over Rain and Clouds.\n",
    "      evidence: A CPT over Rain \n",
    "\n",
    "    Returns:\n",
    "      marginal: A CPT over Clouds.\n",
    "    '''\n",
    "    raise NotImplementedError()        "
   ]
  },
  {
   "cell_type": "code",
   "execution_count": null,
   "metadata": {},
   "outputs": [],
   "source": [
    "# test_18\n",
    "Grader.run_single_test_inline(TestPSet6, \"test_18_BN_inference\", locals())"
   ]
  },
  {
   "cell_type": "markdown",
   "metadata": {},
   "source": [
    "## <a name=\"part4\"></a> Time Spent on Pset (5 points)\n",
    "\n",
    "Please use [this form](https://forms.gle/s7Vp4cuoovwEx9v58) to tell us how long you spent on this pset. After you submit the form, the form will give you a confirmation word. Please enter that confirmation word below to get an extra 5 points. "
   ]
  },
  {
   "cell_type": "code",
   "execution_count": 42,
   "metadata": {},
   "outputs": [],
   "source": [
    "form_confirmation_word =  #\"ENTER THE CONFIRMATION WORD HERE\""
   ]
  },
  {
   "cell_type": "code",
   "execution_count": null,
   "metadata": {},
   "outputs": [],
   "source": [
    "Grader.grade_output([TestPSet6], [locals()], \"results.json\")\n",
    "Grader.print_test_results(\"results.json\")"
   ]
  }
 ],
 "metadata": {
  "@webio": {
   "lastCommId": null,
   "lastKernelId": null
  },
  "celltoolbar": "Create Assignment",
  "kernelspec": {
   "display_name": "Python 3 (ipykernel)",
   "language": "python",
   "name": "python3"
  },
  "language_info": {
   "codemirror_mode": {
    "name": "ipython",
    "version": 3
   },
   "file_extension": ".py",
   "mimetype": "text/x-python",
   "name": "python",
   "nbconvert_exporter": "python",
   "pygments_lexer": "ipython3",
   "version": "3.9.6"
  }
 },
 "nbformat": 4,
 "nbformat_minor": 4
}

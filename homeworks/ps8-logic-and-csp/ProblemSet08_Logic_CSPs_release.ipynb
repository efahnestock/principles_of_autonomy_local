{
 "cells": [
  {
   "cell_type": "markdown",
   "id": "251e8452",
   "metadata": {
    "id": "251e8452"
   },
   "source": [
    "Problem Set 07: Logic, CSPs and Classical Planning \n",
    "\n",
    "In this problem set, you will explore logical inference, constraint satisfaction and classical planning. \n",
    "\n",
    "Credit for Contributors (required)\n",
    "\n",
    "0. [Credit for Contributors (required)](#contributors)\n",
    "\n",
    "1. Propositional Logic (30 points) \n",
    "* 1.1 Model checking (20 points) \n",
    "* 1.2 Concepts in logic (10 points) \n",
    "2. Propositional Logic Coding Problems (35 points) \n",
    "* 2.1 Warmup (5 points) \n",
    "* 2.2 DPLL (30 points) \n",
    "3. Logic for State Estimation (30 points) \n",
    "* 3.1 Sympy warmup (5 points)\n",
    "* 3.2 Sympy warmup 2 (5 points)\n",
    "* 3.3 Search and Rescue Inference (20 points)\n",
    "4. Local search for Constraint Satisfaction Problems (20 points) \n",
    "5. Classical Planning (25 points) \n",
    "* 5.1 Warming up with Pyperplan (5 points) \n",
    "* 5.2 Fill in the Blanks (10 points) \n",
    "* 5.3 Planning Heuristics (10 points) \n",
    "\n",
    "6. [Time Spent on Pset (5 points)](#part4)\n",
    "    \n",
    "**145 points** total for Problem Set 7"
   ]
  },
  {
   "cell_type": "markdown",
   "id": "e6457164",
   "metadata": {
    "id": "e6457164"
   },
   "source": [
    "## Imports and Utilities"
   ]
  },
  {
   "cell_type": "code",
   "execution_count": 1,
   "id": "969092d9",
   "metadata": {
    "id": "969092d9"
   },
   "outputs": [],
   "source": [
    "import numpy as np\n",
    "import sympy"
   ]
  },
  {
   "cell_type": "code",
   "execution_count": 4,
   "id": "e3c0c4b1",
   "metadata": {},
   "outputs": [],
   "source": [
    "from principles_of_autonomy.grader import Grader\n",
    "from principles_of_autonomy.notebook_tests.pset_8 import TestPSet8"
   ]
  },
  {
   "cell_type": "markdown",
   "id": "0427ad75-9572-4df5-8d85-fd6c4ed265e2",
   "metadata": {},
   "source": [
    "# 1. Propositional Logic\n",
    "\n",
    "## 1.1 Model checking\n",
    "\n",
    "Let's explore proof by model checking.  We are interested in finding\n",
    "out which other sentences are **entailed** by the sentence $(A\n",
    "\\Rightarrow B) \\Rightarrow C$.  We can do this by comparing the sets\n",
    "of models (assignments of truth values to propositions) in which the\n",
    "sentences are true.\n",
    "\n",
    "Consider a domain with three propositional variables, $A$, $B$, and $C$.\n",
    "\n",
    "1. Recall that $M(\\gamma)$ is the set of models in which sentence\n",
    "$\\gamma$ is true.  We can conclude that sentence $\\alpha$ entails\n",
    "sentence $\\beta$ via model-checking if: \n",
    "\n",
    "1. $M(\\alpha) \\subseteq M(\\beta)$\n",
    "2. $M(\\beta) \\subseteq M(\\alpha)$\n",
    "3. $M(\\alpha) \\subset M(\\beta)$\n",
    "4. $M(\\beta) \\subset M(\\alpha)$\n",
    "5. $M(\\beta) \\equiv M(\\alpha)$\n",
    "6. $|M(\\beta)| > |M(\\alpha)|$"
   ]
  },
  {
   "cell_type": "code",
   "execution_count": 2,
   "id": "61e95067-949b-44e6-919c-49667f058a62",
   "metadata": {},
   "outputs": [],
   "source": [
    "## Enter your answer by changing the assignment expression below, e.g., q1_answer = 3\n",
    "q1_answer = 0"
   ]
  },
  {
   "cell_type": "code",
   "execution_count": null,
   "id": "9d0d3bd3-756c-4d04-99d3-2b7238e975dc",
   "metadata": {},
   "outputs": [],
   "source": [
    "# test_1\n",
    "Grader.run_single_test_inline(TestPSet8, \"test_1\", locals())"
   ]
  },
  {
   "cell_type": "markdown",
   "id": "39b17ede-76b7-43c4-ad95-4f12765daec2",
   "metadata": {},
   "source": [
    "Give a list of True and False values for whether $(A \\Rightarrow B) \\Rightarrow C$ is true in each model:\n",
    "1. A=**t**, B=**t**, C=**t**\n",
    "2. A=**t**, B=**t**, C=<font color=red>**f**</font>\n",
    "3. A=**t**, B=<font color=red>**f**</font>, C=**t**\n",
    "4. A=**t**, B=<font color=red>**f**</font>, C=<font color=red>**f**</font>\n",
    "5. A=<font color=red>**f**</font>, B=**t**, C=**t**\n",
    "6. A=<font color=red>**f**</font>, B=**t**, C=<font color=red>**f**</font>\n",
    "7. A=<font color=red>**f**</font>, B=<font color=red>**f**</font>, C=**t**\n",
    "8. A=<font color=red>**f**</font>, B=<font color=red>**f**</font>, C=<font color=red>**f**</font>"
   ]
  },
  {
   "cell_type": "code",
   "execution_count": 7,
   "id": "d9d3fb32-d8fc-4162-824d-db83152db37f",
   "metadata": {},
   "outputs": [],
   "source": [
    "## Enter your answer by changing the assignment expression below, e.g., q2_answer = (True, False, True, ...)\n",
    "## Your answer should be a list of 8 True / False values. \n",
    "q2_answer = ()"
   ]
  },
  {
   "cell_type": "code",
   "execution_count": null,
   "id": "f6724e39-77d6-41e4-aa99-68825ac7123b",
   "metadata": {},
   "outputs": [],
   "source": [
    "# test_2\n",
    "Grader.run_single_test_inline(TestPSet8, \"test_2\", locals())"
   ]
  },
  {
   "cell_type": "markdown",
   "id": "f9d9a345-0f7e-484f-88b9-d92f56bf14e1",
   "metadata": {},
   "source": [
    "Give a list of True and False values for whether $A \\Rightarrow (B \\Rightarrow C)$ is true in each model:\n",
    "\n",
    "1. A=**t**, B=**t**, C=**t**\n",
    "2. A=**t**, B=**t**, C=<font color=red>**f**</font>\n",
    "3. A=**t**, B=<font color=red>**f**</font>, C=**t**\n",
    "4. A=**t**, B=<font color=red>**f**</font>, C=<font color=red>**f**</font>\n",
    "5. A=<font color=red>**f**</font>, B=**t**, C=**t**\n",
    "6. A=<font color=red>**f**</font>, B=**t**, C=<font color=red>**f**</font>\n",
    "7. A=<font color=red>**f**</font>, B=<font color=red>**f**</font>, C=**t**\n",
    "8. A=<font color=red>**f**</font>, B=<font color=red>**f**</font>, C=<font color=red>**f**</font>"
   ]
  },
  {
   "cell_type": "code",
   "execution_count": 9,
   "id": "12dd2491-c478-4d8c-ac15-fd0f770bdfa1",
   "metadata": {},
   "outputs": [],
   "source": [
    "## Enter your answer by changing the assignment expression below, e.g., q3_answer = (True, False, True, ...)\n",
    "## Your answer should be a list of 8 True / False values. \n",
    "q3_answer = ()"
   ]
  },
  {
   "cell_type": "code",
   "execution_count": null,
   "id": "cf557f5d-7787-48a4-aae2-c0d380cd9be6",
   "metadata": {},
   "outputs": [],
   "source": [
    "# test_3\n",
    "Grader.run_single_test_inline(TestPSet8, \"test_3\", locals())"
   ]
  },
  {
   "cell_type": "markdown",
   "id": "9b86e17f-2e88-4894-8cd4-4a7c3846262c",
   "metadata": {},
   "source": [
    "Give a list of True and False values for whether statement is true. \n",
    "\n",
    "1. $(A \\Rightarrow B) \\Rightarrow C$  and $A \\Rightarrow (B \\Rightarrow C)$ are equivalent\n",
    "2. $(A \\Rightarrow B) \\Rightarrow C$  entails $A \\Rightarrow (B \\Rightarrow C)$\n",
    "3. $A \\Rightarrow (B \\Rightarrow C)$ entails $(A \\Rightarrow B) \\Rightarrow C$\n"
   ]
  },
  {
   "cell_type": "code",
   "execution_count": 16,
   "id": "2041c824-6b1e-4ca8-99cc-14d38467b03f",
   "metadata": {},
   "outputs": [],
   "source": [
    "## Enter your answer by changing the assignment expression below, e.g., q4_answer = (True, False, True)\n",
    "## Your answer should be a list of 3 True / False values. \n",
    "q4_answer = () "
   ]
  },
  {
   "cell_type": "code",
   "execution_count": null,
   "id": "33810982-11af-461c-942c-d94b2753272d",
   "metadata": {},
   "outputs": [],
   "source": [
    "# test_4\n",
    "Grader.run_single_test_inline(TestPSet8, \"test_4\", locals())"
   ]
  },
  {
   "cell_type": "markdown",
   "id": "954617e3-7b1e-456c-a966-69581c445bbb",
   "metadata": {},
   "source": [
    "## 1.2 Concepts in logic\n",
    "\n",
    "Consider a domain with propositions A, B, C, and D, and the particular model $m = \\{A = t, B = f, C = t, D = f\\}$. For each of these sentences, indicate whether it is valid ('V'), unsatisifiable ('U'), not valid but true in m ('T'), or not unsatisifiable but false in m ('F'). We will use the letters 'V', 'U', 'T' and 'F' for each of those indicators. \n",
    "\n",
    "1. $A \\Rightarrow \\neg A$\n",
    "2. $\\neg (A \\wedge B) \\Rightarrow (\\neg A \\vee \\neg B)$\n",
    "3. $B \\Rightarrow C \\wedge D$\n",
    "4. $A \\Rightarrow C \\wedge D$\n",
    "5. $(A \\wedge C) \\Leftrightarrow (B \\wedge  D)$\n",
    "6. $A \\vee B \\vee C \\vee D$\n",
    "7. $D \\Leftrightarrow \\neg D$"
   ]
  },
  {
   "cell_type": "code",
   "execution_count": 18,
   "id": "f485000d-6577-45c4-8cca-3b544b242340",
   "metadata": {},
   "outputs": [],
   "source": [
    "## Enter your answer by changing the assignment expression below, e.g., q4_answer = ('V', 'U', 'T', ...)\n",
    "## Your answer should be a list of 7 characters. \n",
    "q5_answer = ()"
   ]
  },
  {
   "cell_type": "code",
   "execution_count": null,
   "id": "261952f6-ac7f-460b-bac7-11485470d789",
   "metadata": {},
   "outputs": [],
   "source": [
    "# test_5\n",
    "Grader.run_single_test_inline(TestPSet8, \"test_5\", locals())"
   ]
  },
  {
   "cell_type": "markdown",
   "id": "249ac94d-2301-4c5b-aa83-aa9a023250fc",
   "metadata": {},
   "source": [
    "# 2. Propositional Logic Coding Problems"
   ]
  },
  {
   "cell_type": "markdown",
   "id": "e06270c7",
   "metadata": {
    "id": "e06270c7"
   },
   "source": [
    "### Utilities"
   ]
  },
  {
   "cell_type": "code",
   "execution_count": 20,
   "id": "d265f047",
   "metadata": {
    "id": "d265f047"
   },
   "outputs": [],
   "source": [
    "def lit_to_var_val(literal):\n",
    "    \"\"\"Converts a literal into (variable, value).\n",
    "\n",
    "    Args:\n",
    "      literal: A nonzero int.\n",
    "\n",
    "    Returns:\n",
    "      variable: A positive int representing a variable.\n",
    "      value: True or False, i.e., positive or negative.\n",
    "    \"\"\"\n",
    "    return abs(literal), literal > 0\n",
    "\n",
    "\n",
    "def is_cnf_formula(formula):\n",
    "    \"\"\"Checks whether the input is a valid CNF formula.\n",
    "\n",
    "    A formula is in valid CNF form if it is a list of lists of nonzero\n",
    "    integers with sign indicating whether the variable is negated.\n",
    "\n",
    "    You will not need to use this utility in your implementation,\n",
    "    but it may be useful to read to understand the CNF representation.\n",
    "    \"\"\"\n",
    "    if not isinstance(formula, list):\n",
    "        return False\n",
    "    if len(formula) == 0:\n",
    "        return True\n",
    "    clause = formula[0]\n",
    "    if not isinstance(clause, list):\n",
    "        return False\n",
    "    for literal in clause:\n",
    "        if not isinstance(literal, int):\n",
    "            return False\n",
    "        if literal == 0:\n",
    "            return False\n",
    "    if len(formula) == 1:\n",
    "        return True\n",
    "    return is_cnf_formula(formula[1:])\n",
    "\n",
    "\n",
    "def get_variables_in_cnf_formula(cnf_formula):\n",
    "    \"\"\"Get a list of all variables in a CNF formula.\n",
    "\n",
    "    Args:\n",
    "      cnf_formula: A list of lists of nonzero ints.\n",
    "\n",
    "    Returns:\n",
    "      variables: A list of all variables that appear in\n",
    "        the formula.\n",
    "    \"\"\"\n",
    "    variables = set()\n",
    "    for clause in cnf_formula:\n",
    "        variables.update({lit_to_var_val(literal)[0] for literal in clause})\n",
    "    variables = sorted(variables)\n",
    "    return variables"
   ]
  },
  {
   "cell_type": "markdown",
   "id": "7929e5ea",
   "metadata": {
    "id": "7929e5ea"
   },
   "source": [
    "### 2.1 Warmup\n",
    "\n",
    "In this problem, CNF formulas are represented as lists of lists of nonzero integers. The sign of the integer represents whether the corresponding proposition is negated or not. For example, the formula ((x1 or not x2) and (x3 or x2)) would be represented as [[1, -2], [3, 2]]. Complete the following function to confirm your understanding of this representation.\n",
    "\n",
    "For reference, our solution is **1** line(s) of code."
   ]
  },
  {
   "cell_type": "code",
   "execution_count": 22,
   "id": "1d3844e0",
   "metadata": {
    "id": "1d3844e0"
   },
   "outputs": [],
   "source": [
    "def warmup():\n",
    "    \"\"\"Return a list of lists of ints for the CNF formula:\n",
    "\n",
    "    ((x4 or not x5 or not x6) and (x6 or x5 or not x1) and (x2 or x3)).\n",
    "\n",
    "    Keep the same order as in the formula above.\n",
    "    \"\"\"\n",
    "    raise NotImplementedError()"
   ]
  },
  {
   "cell_type": "code",
   "execution_count": null,
   "id": "d292bbf0",
   "metadata": {
    "id": "d292bbf0"
   },
   "outputs": [],
   "source": [
    "# Note: we're providing these unit tests to help you. \n",
    "# The grading test is more strict for this question\n",
    "# than the unit tests here. Make sure that your answer\n",
    "# matches the description in the docstring exactly. The \n",
    "# order of your variables matters. \n",
    "assert is_cnf_formula(warmup())\n",
    "assert get_variables_in_cnf_formula(warmup()) == [1, 2, 3, 4, 5, 6]\n",
    "print('Tests passed.')"
   ]
  },
  {
   "cell_type": "code",
   "execution_count": null,
   "id": "c39d4c9e-808f-440d-9186-231929d80a13",
   "metadata": {},
   "outputs": [],
   "source": [
    "# test_6\n",
    "Grader.run_single_test_inline(TestPSet8, \"test_6\", locals())"
   ]
  },
  {
   "cell_type": "markdown",
   "id": "3360e42e",
   "metadata": {
    "id": "3360e42e"
   },
   "source": [
    "### 2.2 DPLL"
   ]
  },
  {
   "cell_type": "markdown",
   "id": "b6570e13",
   "metadata": {
    "id": "b6570e13"
   },
   "source": [
    "### Utilities"
   ]
  },
  {
   "cell_type": "code",
   "execution_count": 25,
   "id": "ebc3b63e",
   "metadata": {
    "id": "ebc3b63e"
   },
   "outputs": [],
   "source": [
    "def clause_is_determined(clause, partial_assignment):\n",
    "    \"\"\"Checks whether all variables in the clause have an assignment.\n",
    "\n",
    "    Args:\n",
    "      clause: A list of nonzero ints.\n",
    "      partial_assignment: A dict of variables (ints) to values (bools).\n",
    "\n",
    "    Returns:\n",
    "      is_determined: True if all variables in the clause appear in\n",
    "        partial_assignment.\n",
    "    \"\"\"\n",
    "    for literal in clause:\n",
    "        if not (literal in partial_assignment or\n",
    "                -literal in partial_assignment):\n",
    "            return False\n",
    "    return True\n",
    "\n",
    "\n",
    "def literal_is_satisfied(literal, partial_assignment):\n",
    "    \"\"\"Checks whether the literal is satisfied by the assignment.\n",
    "\n",
    "    Args:\n",
    "      literal: A nonzero int.\n",
    "      partial_assignment: A dict of variables (ints) to values (bools).\n",
    "\n",
    "    Returns:\n",
    "      is_satisfied: True if the literal's variable appears in the\n",
    "        partial_assignment, with a sign matching the literal.\n",
    "    \"\"\"\n",
    "    variable, val = lit_to_var_val(literal)\n",
    "    return variable in partial_assignment and partial_assignment[variable] == val\n",
    "\n",
    "\n",
    "def clause_is_satisfied(clause, partial_assignment):\n",
    "    \"\"\"Checks whether the clause is satisfied by the assignment.\n",
    "\n",
    "    Args:\n",
    "      clause: A list of nonzero ints.\n",
    "      partial_assignment: A dict of variables (ints) to values (bools).\n",
    "\n",
    "    Returns:\n",
    "      is_satisfied: True if some literal in the clause is satisfied.\n",
    "    \"\"\"\n",
    "    for literal in clause:\n",
    "        if literal_is_satisfied(literal, partial_assignment):\n",
    "            return True\n",
    "    return False\n",
    "\n",
    "\n",
    "def find_pure_variable(cnf_formula, variables, partial_assignment):\n",
    "    \"\"\"Helper for DPLL.\n",
    "\n",
    "    A variable is pure if it has the same sign in all unsatisfied clauses\n",
    "    and if it is not already assigned.\n",
    "\n",
    "    If a pure variable exists, this function returns the variable and value\n",
    "    corresponding to the literal. (If multiple exist, return an arbitrary one.)\n",
    "\n",
    "    If no pure variables exist, return (None, None).\n",
    "\n",
    "    Args:\n",
    "      cnf_formula: A list of lists of nonzero integers representing a CNF formula,\n",
    "        with sign indicating whether the variable is negated.\n",
    "      variables: A list of positive integers.\n",
    "      partial_assignment: A dict mapping positive integers to bools, or None for\n",
    "        an empty assignment.\n",
    "\n",
    "    Returns:\n",
    "      variable : A positive integer or None.\n",
    "      value: A bool or None.\n",
    "    \"\"\"\n",
    "    candidate_to_possible_values  = {v : {True, False} for v in variables \\\n",
    "                                    if v not in partial_assignment}\n",
    "    for clause in cnf_formula:\n",
    "        if clause_is_satisfied(clause, partial_assignment):\n",
    "            continue\n",
    "        for literal in clause:\n",
    "            variable, value = lit_to_var_val(literal)\n",
    "            if variable in candidate_to_possible_values:\n",
    "                candidate_to_possible_values[variable].discard(not value)\n",
    "    for candidate, possible_values in candidate_to_possible_values.items():\n",
    "        if possible_values:\n",
    "            value = next(iter(possible_values))\n",
    "            return candidate, value\n",
    "    return None, None\n",
    "\n",
    "\n",
    "def find_unit_clause(cnf_formula, partial_assignment):\n",
    "    \"\"\"Helper for DPLL.\n",
    "\n",
    "    A clause is a unit clause if all literals but one are already assigned to\n",
    "    False. If a unit clause exists, this function returns the variable and value\n",
    "    corresponding to the literal. (If multiple exist, return an arbitrary one.)\n",
    "\n",
    "    Args:\n",
    "      cnf_formula: A list of lists of nonzero integers representing a CNF formula,\n",
    "        with sign indicating whether the variable is negated.\n",
    "      variables: A list of positive integers.\n",
    "      partial_assignment: A dict mapping positive integers to bools, or None for\n",
    "        an empty assignment.\n",
    "\n",
    "    Returns:\n",
    "      variable : A positive integer or None.\n",
    "      value: A bool or None.\n",
    "    \"\"\"\n",
    "    for clause in cnf_formula:\n",
    "        unassigned_literal = None\n",
    "        is_unit_clause = True\n",
    "        for literal in clause:\n",
    "            # If the literal is true in the assignment, this is not a unit clause\n",
    "            if literal_is_satisfied(literal, partial_assignment):\n",
    "                is_unit_clause = False\n",
    "                break\n",
    "            # If the literal is false in the assignment, this could be a unit clause\n",
    "            elif literal in partial_assignment:\n",
    "                continue\n",
    "            # If there is already an unassigned literal, this is not a unit clause\n",
    "            elif not (unassigned_literal is None):\n",
    "                is_unit_clause = False\n",
    "                break\n",
    "            else:\n",
    "                unassigned_literal = literal\n",
    "        if is_unit_clause and not (unassigned_literal is None):\n",
    "            return lit_to_var_val(unassigned_literal)\n",
    "    return None, None"
   ]
  },
  {
   "cell_type": "markdown",
   "id": "6f0153ea",
   "metadata": {},
   "source": [
    "### To Do:"
   ]
  },
  {
   "cell_type": "markdown",
   "id": "b7f696ec-9222-4f1b-9d3c-51c2a134aace",
   "metadata": {},
   "source": [
    "Complete an implementation of DPLL, using the helper functions above  \n",
    "\n",
    "For reference, our solution is **62** line(s) of code."
   ]
  },
  {
   "cell_type": "code",
   "execution_count": 27,
   "id": "26c249c7",
   "metadata": {
    "id": "26c249c7"
   },
   "outputs": [],
   "source": [
    "def run_inference_dpll(cnf_formula):\n",
    "    \"\"\"Find a satisfying assignment for a propositional CNF formula with DPLL.\n",
    "\n",
    "    Args:\n",
    "      cnf_formula: A list of lists of nonzero integers representing a CNF formula,\n",
    "        with sign indicating whether the variable is negated.\n",
    "\n",
    "    Returns:\n",
    "      satisfiable: A bool indicating whether some satisfying assignment exists.\n",
    "      assignment: A dict mapping positive integers to bools, or None if no\n",
    "        satisfying assignment exists.\n",
    "\n",
    "    Examples:\n",
    "      >> run_inference_dpll([[1, -2], [-1, -2]])\n",
    "      >> (True, {1: True, 2: False}))\n",
    "\n",
    "      >> run_inference_dpll([[1], [-1]])\n",
    "      >> (False, None)\n",
    "    \"\"\"\n",
    "    \n",
    "    raise NotImplementedError()"
   ]
  },
  {
   "cell_type": "markdown",
   "id": "e19c487c",
   "metadata": {
    "id": "e19c487c"
   },
   "source": [
    "### Tests"
   ]
  },
  {
   "cell_type": "code",
   "execution_count": null,
   "id": "5d313f42",
   "metadata": {
    "id": "5d313f42"
   },
   "outputs": [],
   "source": [
    "# Note: we're providing these unit tests to help you. \n",
    "# The grading tests are not just these tests.\n",
    "\n",
    "assert run_inference_dpll([]) == (True, {})\n",
    "assert run_inference_dpll([[1]]) == (True, {1: True})\n",
    "assert run_inference_dpll([[-1]]) == (True, {1: False})\n",
    "assert run_inference_dpll([[1, 2]]) in [(True, {1: True, 2: True}), (True, {1: True, 2: False}), (True, {1: False, 2: True})]\n",
    "print('Tests passed.')"
   ]
  },
  {
   "cell_type": "code",
   "execution_count": null,
   "id": "be265728-be63-4a4d-9cf6-dde4210ce9d9",
   "metadata": {},
   "outputs": [],
   "source": [
    "# test_7\n",
    "Grader.run_single_test_inline(TestPSet8, \"test_7\", locals())"
   ]
  },
  {
   "cell_type": "markdown",
   "id": "53f981f0",
   "metadata": {
    "id": "53f981f0"
   },
   "source": [
    "# 3. Logic for State Estimation\n",
    "\n",
    "Let us turn our attention once again to a \"search and rescue\" robot who is charged with navigating a sometimes dangerous grid to find and help people in need. Assume a partially observable domain, consider the subproblem of inferring what locations in a grid contain smoke or fire based on a limited set of observations and our knowledge about the relationship between smoke and fire."
   ]
  },
  {
   "cell_type": "markdown",
   "id": "3b2e293d",
   "metadata": {
    "id": "3b2e293d"
   },
   "source": [
    "### 3.1 Sympy warmup\n",
    "\n",
    "We're going to be using the sympy package, so let's warm up and check our understanding. \n",
    "\n",
    "Use sympy to determine whether the following formula is satisfiable:\n",
    "$(\\neg x_1 \\land x_2) \\Rightarrow ((x_2 \\lor x_3) \\land (x_1 \\lor \\neg x_3))$. You will need to create the formula and then use sympy to check if it is satisfiable. \n",
    "\n",
    "Note that the return type should be **bool**.\n",
    "\n",
    "For reference, our solution is **3** line(s) of code."
   ]
  },
  {
   "cell_type": "code",
   "execution_count": 34,
   "id": "fdc4278e",
   "metadata": {
    "id": "fdc4278e"
   },
   "outputs": [],
   "source": [
    "def formula1_is_satisfiable():\n",
    "    \"\"\"Determines whether the above formula is satisfiable.\n",
    "\n",
    "    Returns:\n",
    "      is_satisfiable: A bool indicating whether the formula is satisfiable.\n",
    "    \"\"\"\n",
    "    #raise NotImplementedError()\n"
   ]
  },
  {
   "cell_type": "code",
   "execution_count": null,
   "id": "6f0bd471-c303-4cc4-a3d6-d086b7b3674c",
   "metadata": {},
   "outputs": [],
   "source": [
    "# test_8\n",
    "# assert formula1_is_satisfiable() == True\n",
    "Grader.run_single_test_inline(TestPSet8, \"test_8\", locals())"
   ]
  },
  {
   "cell_type": "markdown",
   "id": "ef93991e",
   "metadata": {
    "id": "ef93991e"
   },
   "source": [
    "### 3.2 Sympy Warmup 2\n",
    "\n",
    "Use sympy to determine whether the following formula is satisfiable:\n",
    "$(x_1 \\lor x_2) \\land (\\neg x_1 \\lor \\neg x_2) \\land (x_1 \\lor \\neg x_2) \\land (\\neg x_1 \\lor x_2)$. As before, you will need to create the formula and then use sympy to check if it is satisfiable. \n",
    "\n",
    "For reference, our solution is **3** line(s) of code."
   ]
  },
  {
   "cell_type": "code",
   "execution_count": 38,
   "id": "160394c6",
   "metadata": {
    "id": "160394c6"
   },
   "outputs": [],
   "source": [
    "def formula2_is_satisfiable():\n",
    "    \"\"\"Determines whether the above formula is satisfiable.\n",
    "\n",
    "    Returns:\n",
    "      is_satisfiable: A bool indicating whether the formula is satisfiable.\n",
    "    \"\"\"\n",
    "    raise NotImplementedError()"
   ]
  },
  {
   "cell_type": "code",
   "execution_count": null,
   "id": "a20c9a73-9ee4-4570-a806-35f33c6cd286",
   "metadata": {},
   "outputs": [],
   "source": [
    "# test_9\n",
    "Grader.run_single_test_inline(TestPSet8, \"test_9\", locals())"
   ]
  },
  {
   "cell_type": "markdown",
   "id": "7a47d7c2",
   "metadata": {
    "id": "7a47d7c2"
   },
   "source": [
    "### 3.3 Search and Rescue Inference\n",
    "\n",
    "Now, we will look at the actual inference problem that we are interested in. We will consider several problems with varying grid sizes and different sets of observations. For example, consider the grid below:\n",
    "Write a program that takes a grid as input and infers unknown values.\n",
    "```\n",
    "# Fire, Unknown, Clear, Smoke\n",
    "GRID0 = np.array([\n",
    "  [\"F\", \"U\", \"C\"],\n",
    "  [\"S\", \"C\", \"U\"],\n",
    "  [\"U\", \"U\", \"C\"]\n",
    "], dtype=object)\n",
    "```\n",
    "This grid has 9 locations and 5 observations: there is fire in the top left, smoke below it, and the center, top right, and bottom right locations are all known to be clear of smoke or fire.\n",
    "\n",
    "We will assume the following axioms:\n",
    "1. Each location has exactly one of {smoke, fire, clear}.\n",
    "2. There is smoke at a location if and only if there is a fire in at least one of the adjacent (above, below, left, right) locations. Diagonals are not adjacent!\n",
    "\n",
    "Note that as a corollary, there cannot be two fires in adjacent locations. Take a moment to run your human inference engine: which unknown values in the grid above can be determined?\n",
    "\n",
    "Now, write a program that takes a grid as input and infers unknown values. Your program should output a new grid with all determinable unknown values replaced with the inferred value. If an unknown value cannot be determined, it should be left unknown.\n",
    "\n",
    "**Your program should use sympy.**\n",
    "\n",
    "\n",
    "For reference, our solution is **57** line(s) of code."
   ]
  },
  {
   "cell_type": "code",
   "execution_count": 42,
   "id": "81059f73",
   "metadata": {
    "id": "81059f73"
   },
   "outputs": [],
   "source": [
    "def infer_unknown_values(grid):\n",
    "    \"\"\"Fill in any unknown values in the grid that can be inferred.\n",
    "\n",
    "    Args:\n",
    "      grid: A list of lists of \"F\", \"U\", \"S\", or \"C\".\n",
    "\n",
    "    Returns:\n",
    "      inferred_grid: A copy of grid with some unknown values replaced.\n",
    "\n",
    "    Example:\n",
    "      >> grid = [\n",
    "      >>   [\"F\", \"U\", \"C\"],\n",
    "      >>   [\"S\", \"C\", \"U\"],\n",
    "      >>   [\"U\", \"U\", \"C\"]\n",
    "      >> ]\n",
    "      >> infer_unknown_values(grid)\n",
    "      >> [[\"F\" \"S\" \"C\"]\n",
    "      >>  [\"S\" \"C\" \"C\"]\n",
    "      >>  [\"U\" \"U\" \"C\"]]\n",
    "    \"\"\"\n",
    "    raise NotImplementedError() "
   ]
  },
  {
   "cell_type": "markdown",
   "id": "86897571",
   "metadata": {
    "id": "86897571"
   },
   "source": [
    "### Tests"
   ]
  },
  {
   "cell_type": "code",
   "execution_count": null,
   "id": "82883f33",
   "metadata": {
    "id": "82883f33"
   },
   "outputs": [],
   "source": [
    "# Note: we're providing these unit tests to help you. \n",
    "# The grading tests are not just these tests.\n",
    "\n",
    "assert infer_unknown_values([[\"U\", \"F\"]]) == [[\"S\", \"F\"]]\n",
    "assert infer_unknown_values([[\"F\", \"U\", \"C\"], [\"S\", \"C\", \"U\"], [\"U\", \"U\", \"C\"]]) == [[\"F\", \"S\", \"C\"], [\"S\", \"C\", \"C\"], [\"U\", \"U\", \"C\"]]\n",
    "print('Tests passed.')"
   ]
  },
  {
   "cell_type": "code",
   "execution_count": null,
   "id": "353fe8a9-7ee8-4d3f-9d39-4012210dd4d0",
   "metadata": {},
   "outputs": [],
   "source": [
    "# test_10\n",
    "Grader.run_single_test_inline(TestPSet8, \"test_10\", locals())"
   ]
  },
  {
   "cell_type": "markdown",
   "id": "5e314c8c-21c9-45c0-901a-bd55ed8862ee",
   "metadata": {},
   "source": [
    "# 4. Local search for Constraint Satisfaction Problems"
   ]
  },
  {
   "cell_type": "markdown",
   "id": "601cb722-4469-4db1-99b8-9cda0076429c",
   "metadata": {},
   "source": [
    "### 4.1 \n",
    "\n",
    "When there is some kind of information available about the \"quality\" of a non-satisfying assignment, then we can do local search, trying to improve that solution by making a sequence of small improving changes.\n",
    "\n",
    "Which of the following might make good measures of the quality of an assignment, which would decrease as the assignment improved toward a solution?\n",
    "\n",
    "1.  Number of violated constraints\n",
    "2. Sum of the \"amount\" each constraint is violated (for example, how much two objects interpenetrate, given a collision-free constraint)\n",
    "3. Number of values in the domains of the variables involved in violated constraints"
   ]
  },
  {
   "cell_type": "code",
   "execution_count": 45,
   "id": "e79a0415-0a43-48e9-88a1-5d988fbe8c59",
   "metadata": {},
   "outputs": [],
   "source": [
    "## Enter your answer by changing the assignment expression below, e.g., q11_answer = (True, False, True)\n",
    "## Your answer should be a list of 3 True / False values. \n",
    "q11_answer = ()\n",
    "raise NotImplementedError() "
   ]
  },
  {
   "cell_type": "code",
   "execution_count": null,
   "id": "ff39afe2-f67c-4aba-871b-3c44e3877817",
   "metadata": {},
   "outputs": [],
   "source": [
    "# test_11\n",
    "Grader.run_single_test_inline(TestPSet8, \"test_11\", locals())"
   ]
  },
  {
   "cell_type": "markdown",
   "id": "54cfe5c1-1cc3-4eab-8674-7618b18326ba",
   "metadata": {},
   "source": [
    "### 4.2 \n",
    "\n",
    "Consider an algorithm in which you iterate these steps until you find a solution:\n",
    "\n",
    "- Find a violated constraint.\n",
    "- Make a minimal reassignment of values to variables involved in it, so that it becomes satisfied.\n",
    "\n",
    "True or False: Is it guaranteed to find a satisfying assignment if one exists?"
   ]
  },
  {
   "cell_type": "code",
   "execution_count": 47,
   "id": "ca058927-3ff8-4f1c-be78-72f9465a8eff",
   "metadata": {},
   "outputs": [],
   "source": [
    "## Enter your answer by changing the assignment expression below, e.g., q12_answer = True\n",
    "q12_answer = None"
   ]
  },
  {
   "cell_type": "code",
   "execution_count": null,
   "id": "69f84ebc-26f7-40f2-b37b-ee887e6fbe34",
   "metadata": {},
   "outputs": [],
   "source": [
    "# test_12\n",
    "Grader.run_single_test_inline(TestPSet8, \"test_12\", locals())"
   ]
  },
  {
   "cell_type": "markdown",
   "id": "b375504b-3a36-4485-9012-6b05c9ade3c4",
   "metadata": {},
   "source": [
    "### 4.3 \n",
    "\n",
    "Consider an algorithm in which you iterate these steps until you find a solution:\n",
    "\n",
    "- Pick a variable at random and a possible assignment to it.\n",
    "- If changing that variable to have that value decreases the number of constraints that are violated, make the change, otherwise do not.\n",
    "\n",
    "True or False: Is it guaranteed to find a satisfying assignment if one exists?"
   ]
  },
  {
   "cell_type": "code",
   "execution_count": 49,
   "id": "1b7958e1-5bde-4826-967a-d2cc2e28834e",
   "metadata": {},
   "outputs": [],
   "source": [
    "## Enter your answer by changing the assignment expression below, e.g., q13_answer = True\n",
    "q13_answer = None"
   ]
  },
  {
   "cell_type": "code",
   "execution_count": null,
   "id": "79964533-73f0-45d9-98f3-d5da646b3d8b",
   "metadata": {},
   "outputs": [],
   "source": [
    "# test_13\n",
    "Grader.run_single_test_inline(TestPSet8, \"test_13\", locals())"
   ]
  },
  {
   "cell_type": "markdown",
   "id": "c2e7d3c9-64b3-4fba-af16-af4e7ea8ed9d",
   "metadata": {},
   "source": [
    "### 4.4 \n",
    "\n",
    "Consider an algoirthm in which you iterate these steps until you find a solution:\n",
    "\n",
    "- Pick a variable at random and a possible assignment to it.\n",
    "- If changing that variable to have that value improves the quality of the assignment, make the change.\n",
    "- Otherwise, with probability $e^{-\\delta / T}$ where $\\delta$ is the change in assignment quality, accept the change\n",
    "\n",
    "True or False: Is there a way to manage the $T$ parameter so this is guaranteed to find a satisfying assignment if one exists?"
   ]
  },
  {
   "cell_type": "code",
   "execution_count": 52,
   "id": "be8ff9b7-e6b7-437a-94a7-070a4fd5bccd",
   "metadata": {},
   "outputs": [],
   "source": [
    "## Enter your answer by changing the assignment expression below, e.g., q14_answer = True\n",
    "q14_answer = None"
   ]
  },
  {
   "cell_type": "code",
   "execution_count": null,
   "id": "3b7db87a-b977-4deb-8a53-f885aab59074",
   "metadata": {},
   "outputs": [],
   "source": [
    "# test_14\n",
    "Grader.run_single_test_inline(TestPSet8, \"test_14\", locals())"
   ]
  },
  {
   "cell_type": "markdown",
   "id": "deda69b5-edb7-44dd-af89-54c90346ac9b",
   "metadata": {},
   "source": [
    "# 5. Classical Planning "
   ]
  },
  {
   "cell_type": "code",
   "execution_count": 54,
   "id": "77996a23-7844-4501-ac97-b2aa8cc25ea6",
   "metadata": {},
   "outputs": [],
   "source": [
    "import os\n",
    "import time\n",
    "import tempfile\n",
    "from pyperplan.pddl.parser import Parser\n",
    "from pyperplan import grounding, planner\n",
    "\n",
    "# This uses TYPING\n",
    "BLOCKS_DOMAIN = \"\"\"(define (domain blocks)\n",
    "    (:requirements :strips :typing)\n",
    "    (:types block)\n",
    "    (:predicates\n",
    "        (on ?x - block ?y - block)\n",
    "        (ontable ?x - block)\n",
    "        (clear ?x - block)\n",
    "        (handempty)\n",
    "        (holding ?x - block)\n",
    "    )\n",
    "\n",
    "    (:action pick-up\n",
    "        :parameters (?x - block)\n",
    "        :precondition (and\n",
    "            (clear ?x)\n",
    "            (ontable ?x)\n",
    "            (handempty)\n",
    "        )\n",
    "        :effect (and\n",
    "            (not (ontable ?x))\n",
    "            (not (clear ?x))\n",
    "            (not (handempty))\n",
    "            (holding ?x)\n",
    "        )\n",
    "    )\n",
    "\n",
    "    (:action put-down\n",
    "        :parameters (?x - block)\n",
    "        :precondition (and\n",
    "            (holding ?x)\n",
    "        )\n",
    "        :effect (and\n",
    "            (not (holding ?x))\n",
    "            (clear ?x)\n",
    "            (handempty)\n",
    "            (ontable ?x))\n",
    "        )\n",
    "\n",
    "    (:action stack\n",
    "        :parameters (?x - block ?y - block)\n",
    "        :precondition (and\n",
    "            (holding ?x)\n",
    "            (clear ?y)\n",
    "        )\n",
    "        :effect (and\n",
    "            (not (holding ?x))\n",
    "            (not (clear ?y))\n",
    "            (clear ?x)\n",
    "            (handempty)\n",
    "            (on ?x ?y)\n",
    "        )\n",
    "    )\n",
    "\n",
    "    (:action unstack\n",
    "        :parameters (?x - block ?y - block)\n",
    "        :precondition (and\n",
    "            (on ?x ?y)\n",
    "            (clear ?x)\n",
    "            (handempty)\n",
    "        )\n",
    "        :effect (and\n",
    "            (holding ?x)\n",
    "            (clear ?y)\n",
    "            (not (clear ?x))\n",
    "            (not (handempty))\n",
    "            (not (on ?x ?y))\n",
    "        )\n",
    "    )\n",
    ")\n",
    "\"\"\"\n",
    "\n",
    "# This uses TYPING\n",
    "BLOCKS_PROBLEM = \"\"\"(define (problem blocks)\n",
    "    (:domain blocks)\n",
    "    (:objects\n",
    "        d - block\n",
    "        b - block\n",
    "        a - block\n",
    "        c - block\n",
    "    )\n",
    "    (:init\n",
    "        (clear a)\n",
    "        (on a b)\n",
    "        (on b c)\n",
    "        (on c d)\n",
    "        (ontable d)\n",
    "        (handempty)\n",
    "    )\n",
    "    (:goal (and (on d c) (on c b) (on b a)))\n",
    ")\n",
    "\"\"\"\n",
    "\n",
    "# The BW domain does not use TYPING\n",
    "BW_BLOCKS_DOMAIN = \"\"\"(define (domain prodigy-bw)\n",
    "  (:requirements :strips)\n",
    "  (:predicates (on ?x ?y)\n",
    "               (ontable ?x)\n",
    "               (clear ?x)\n",
    "               (handempty)\n",
    "               (holding ?x)\n",
    "               )\n",
    "  (:action pick-up\n",
    "             :parameters (?ob1)\n",
    "             :precondition (and (clear ?ob1) (ontable ?ob1) (handempty))\n",
    "             :effect\n",
    "             (and (not (ontable ?ob1))\n",
    "                   (not (clear ?ob1))\n",
    "                   (not (handempty))\n",
    "                   (holding ?ob1)))\n",
    "  (:action put-down\n",
    "             :parameters (?ob)\n",
    "             :precondition (holding ?ob)\n",
    "             :effect\n",
    "             (and (not (holding ?ob))\n",
    "                   (clear ?ob)\n",
    "                   (handempty)\n",
    "                   (ontable ?ob)))\n",
    "  (:action stack\n",
    "             :parameters (?sob ?sunderob)\n",
    "             :precondition (and (holding ?sob) (clear ?sunderob))\n",
    "             :effect\n",
    "             (and (not (holding ?sob))\n",
    "                   (not (clear ?sunderob))\n",
    "                   (clear ?sob)\n",
    "                   (handempty)\n",
    "                   (on ?sob ?sunderob)))\n",
    "  (:action unstack\n",
    "             :parameters (?sob ?sunderob)\n",
    "             :precondition (and (on ?sob ?sunderob) (clear ?sob) (handempty))\n",
    "             :effect\n",
    "             (and (holding ?sob)\n",
    "                   (clear ?sunderob)\n",
    "                   (not (clear ?sob))\n",
    "                   (not (handempty))\n",
    "                   (not (on ?sob ?sunderob)))))\n",
    "\"\"\"\n",
    "\n",
    "\n",
    "def get_task_definition_str(domain_pddl_str, problem_pddl_str):\n",
    "    \"\"\"Get Pyperplan task definition from PDDL domain and problem.\n",
    "\n",
    "    This function is a lightweight wrapper around Pyperplan.\n",
    "\n",
    "    Args:\n",
    "      domain_pddl_str: A str, the contents of a domain.pddl file.\n",
    "      problem_pddl_str: A str, the contents of a problem.pddl file.\n",
    "\n",
    "    Returns:\n",
    "      task: a structure defining the problem\n",
    "    \"\"\"\n",
    "    # Parsing the PDDL\n",
    "    domain_file = tempfile.NamedTemporaryFile(delete=False)\n",
    "    problem_file = tempfile.NamedTemporaryFile(delete=False)\n",
    "    with open(domain_file.name, 'w') as f:\n",
    "        f.write(domain_pddl_str)\n",
    "    with open(problem_file.name, 'w') as f:\n",
    "        f.write(problem_pddl_str)\n",
    "    parser = Parser(domain_file.name, problem_file.name)\n",
    "    domain = parser.parse_domain()\n",
    "    problem = parser.parse_problem(domain)\n",
    "    os.remove(domain_file.name)\n",
    "    os.remove(problem_file.name)\n",
    "\n",
    "    # Ground the PDDL\n",
    "    task = grounding.ground(problem)\n",
    "    return task\n",
    "\n",
    "\n",
    "def run_planning(domain_pddl_str,\n",
    "                 problem_pddl_str,\n",
    "                 search_alg_name,\n",
    "                 heuristic_name=None,\n",
    "                 return_time=False):\n",
    "    \"\"\"Plan a sequence of actions to solve the given PDDL problem.\n",
    "\n",
    "    This function is a lightweight wrapper around pyperplan.\n",
    "\n",
    "    Args:\n",
    "      domain_pddl_str: A str, the contents of a domain.pddl file.\n",
    "      problem_pddl_str: A str, the contents of a problem.pddl file.\n",
    "      search_alg_name: A str, the name of a search algorithm in\n",
    "        pyperplan. Options: astar, wastar, gbf, bfs, ehs, ids, sat.\n",
    "      heuristic_name: A str, the name of a heuristic in pyperplan.\n",
    "        Options: blind, hadd, hmax, hsa, hff, lmcut, landmark.\n",
    "      return_time:  Bool. Set to `True` to return the planning time.\n",
    "\n",
    "    Returns:\n",
    "      plan: A list of actions; each action is a pyperplan Operator.\n",
    "    \"\"\"\n",
    "    # Ground the PDDL\n",
    "    task = get_task_definition_str(domain_pddl_str, problem_pddl_str)\n",
    "\n",
    "    # Get the search alg\n",
    "    search_alg = planner.SEARCHES[search_alg_name]\n",
    "\n",
    "    if heuristic_name is None:\n",
    "        if not return_time:\n",
    "            return search_alg(task)\n",
    "        start_time = time.time()\n",
    "        plan = search_alg(task)\n",
    "        plan_time = time.time() - start_time\n",
    "        return plan, plan_time\n",
    "\n",
    "    # Get the heuristic\n",
    "    heuristic = planner.HEURISTICS[heuristic_name](task)\n",
    "\n",
    "    # Run planning\n",
    "    start_time = time.time()\n",
    "    plan = search_alg(task, heuristic)\n",
    "    plan_time = time.time() - start_time\n",
    "\n",
    "    if return_time:\n",
    "        return plan, plan_time\n",
    "    return plan\n",
    "\n",
    "\n",
    "def h_add_test(prob_str, expected_h):\n",
    "    task = get_task_definition_str(BW_BLOCKS_DOMAIN, prob_str)\n",
    "    h = h_add(task)\n",
    "    assert h == expected_h, f\"Expected h={expected_h}, but got {h}.\"\n",
    "    return h\n",
    "\n",
    "\n",
    "def h_ff_test(prob_str, expected_h):\n",
    "    task = get_task_definition_str(BW_BLOCKS_DOMAIN, prob_str)\n",
    "    h = h_ff(task)\n",
    "    assert h == expected_h, f\"Expected h={expected_h}, but got {h}.\""
   ]
  },
  {
   "cell_type": "markdown",
   "id": "421192d3-b9b4-4ec9-90ba-3586047e592b",
   "metadata": {},
   "source": [
    "### 5.1 Warming up with Pyperplan\n",
    "\n",
    "In this homework, we will be using a Python PDDL planner called `pyperplan`. Let's warm up by using `pyperplan` to solve a given blocks PDDL problem.\n",
    "\n",
    "Use `run_planning` to find a plan for the blocks problem defined at the top of the colab file (`BLOCKS_DOMAIN`, `BLOCKS_PROBLEM`).\n",
    "\n",
    "The `run_planning` function takes in a PDDL domain string, a PDDL problem string, the name of a search algorithm, and the name of a heuristic (if the search algorithm is informed) or a customized heuristic class. It then uses the Python planning library `pyperplan` to find a plan.\n",
    "\n",
    "The plan returned by `run_planning` is a list of pyperplan Operators. You should not need to manipulate these data structures directly in this homework, but if you are curious about the definition, see [here](https://github.com/aibasel/pyperplan/blob/master/pyperplan/task.py#L23).\n",
    "\n",
    "The search algs available in pyperplan are: `astar, wastar, gbf, bfs, ehs, ids, sat`. The heuristics available in pyperplan are: `blind, hadd, hmax, hsa, hff, lmcut, landmark`.\n",
    "\n",
    "For this question, use the `astar` search algorithm with the `hadd` heuristic.\n",
    "\n",
    "For reference, our solution is **1** line(s) of code.\n"
   ]
  },
  {
   "cell_type": "code",
   "execution_count": 55,
   "id": "3d96c525-5e78-4766-a409-740e8b9ea436",
   "metadata": {},
   "outputs": [],
   "source": [
    "def planning_warmup():\n",
    "    '''Use run_planning to find a plan for the blocks problem defined at the\n",
    "    top of the colab file (BLOCKS_DOMAIN, BLOCKS_PROBLEM).\n",
    "\n",
    "      Use the astar search algorithm with the hadd heuristic.\n",
    "\n",
    "    Returns:\n",
    "      plan: A list of actions; each action is a pyperplan Operator.\n",
    "    '''\n",
    "    raise NotImplementedError() "
   ]
  },
  {
   "cell_type": "code",
   "execution_count": null,
   "id": "37242f0a-e437-4360-838b-9b24a8a0e8bd",
   "metadata": {},
   "outputs": [],
   "source": [
    "# test_15\n",
    "Grader.run_single_test_inline(TestPSet8, \"test_15\", locals())"
   ]
  },
  {
   "cell_type": "markdown",
   "id": "f0c7154e-3c42-4fb6-926b-5b8c6f467524",
   "metadata": {},
   "source": [
    "### 5.2 Fill in the Blanks\n",
    "\n",
    "You've received PDDL domain and problem strings from your boss and you need to make a plan, pronto! Unfortunately, some of the PDDL is missing.\n",
    "\n",
    "Here's what you know. What you're trying to model is a newspaper delivery robot. The robot starts out at a \"home base\" where there are papers that it can pick up. The robot can hold arbitrarily many papers at once. It can then move around to different locations and deliver papers.\n",
    "\n",
    "Not all locations want a paper -- the goal is to satisfy all the locations that do want a paper.\n",
    "\n",
    "You also know:\n",
    "* There are 6 locations in addition to 1 for the homebase. Locations 1, 2, 3, and 4 want paper; locations 5 and 6 do not.\n",
    "* There are 8 papers at the homebase.\n",
    "* The robot is initially at the homebase with no papers packed.\n",
    "\n",
    "Use this description to complete the PDDL domain and problem. You can assume the PDDL planner will find the optimal solution.\n",
    "\n",
    "If you are running into issues writing or debugging the PDDL you can check out this online PDDL editor, which comes with a built-in planner: [editor.planning.domains](http://editor.planning.domains). To use the editor, you can create two files, one for the domain and one for the problem. You can then click \"Solve\" at the top to use the built-in planner.\n",
    "\n",
    "For a general reference on PDDL, check out [planning.wiki](https://planning.wiki/). Note that the PDDL features supported by pyperplan are very limited: types and constants are supported, but that's about it. If you want to make a domain that involves more advanced features, you can try the built-in planner at [editor.planning.domains](http://editor.planning.domains), or you can use any other PDDL planner of your choosing.\n",
    "\n",
    "Debugging PDDL can be painful. The online editor at [editor.planning.domains](http://editor.planning.domains) is helpful: pay attention to the syntax highlighting and to the line numbers in error messages that result from trying to Solve. To debug, you can also comment out multiple lines of your files by highlighting and using command+/. Common issues to watch out for include:\n",
    "* A predicate is not defined in the domain file\n",
    "* A variable name does not start with a question mark\n",
    "* An illegal character is used (we recommended sticking with alphanumeric characters, dashes, or underscores; and don't start any names with numbers)\n",
    "* An operator is missing a parameter (in general, the parameters should be exactly the variables that are used anywhere in the operator's preconditions or effects)\n",
    "* An operator is missing a necessary precondition or effect\n",
    "* Using negated preconditions, which are not allowed in basic Strips\n",
    "\n",
    "If you get stuck debugging your PDDL file for more than 10-15 min, please reach out and we'll help!\n",
    "\n",
    "Look through the following file, find the TODOs and complete the necessary PDDL terms. "
   ]
  },
  {
   "cell_type": "code",
   "execution_count": 58,
   "id": "5045add7-c4aa-4839-8dcf-3f0ac8c8dbd2",
   "metadata": {},
   "outputs": [],
   "source": [
    "def pddl_warmup():\n",
    "    '''Creates a PDDL domain and problem strs for newspaper delivery (uses\n",
    "    TYPING).\n",
    "\n",
    "    Returns:\n",
    "      domain: str\n",
    "      problem: str\n",
    "    '''\n",
    "    raise NotImplementedError() "
   ]
  },
  {
   "cell_type": "code",
   "execution_count": null,
   "id": "62518d81-30a6-4fff-b5f7-32a87a9af9e5",
   "metadata": {},
   "outputs": [],
   "source": [
    "# test_16\n",
    "Grader.run_single_test_inline(TestPSet8, \"test_16\", locals())"
   ]
  },
  {
   "cell_type": "markdown",
   "id": "0a117f76-5128-4679-8bea-125881476ac6",
   "metadata": {},
   "source": [
    "### 5.3 Planning Heuristics\n",
    "\n",
    "Let's now compare different search algorithms and heuristics.\n",
    "\n",
    "Let's consider two of the search algorithms available in pyperplan:\n",
    "`astar, gbf`.\n",
    "\n",
    "And the following heuristics: `blind, hadd, hmax, hff, lmcut`. `blind`, `hmax` and `lmcut` are admissible; `hadd` and `hff` are not.\n",
    "\n",
    "Unfortunately the documentation for pyperplan is limited at the moment, but if you\n",
    "are curious to learn more about its internals, the code is open-sourced on [this GitHub repo](https://github.com/aibasel/pyperplan).\n",
    "\n",
    "<subsection>Comparison</subsection>\n",
    "\n",
    "We have given you a set of blocks planning problem of different complexity `BW_BLOCKS_PROBLEM_1` to `BW_BLOCKS_PROBLEM_6`.\n",
    "You can use the function `test_run_planning` to test the different combinations of search and heuristic\n",
    "on different problems. There is also a helper function  to plot the result.\n",
    "\n",
    "If planning takes more than 30 seconds, just kill the process."
   ]
  },
  {
   "cell_type": "code",
   "execution_count": 61,
   "id": "f5eec20c-433a-4ee1-9b3e-755b78d3a2e0",
   "metadata": {},
   "outputs": [],
   "source": [
    "BW_BLOCKS_PROBLEM_1 = \"\"\"(define (problem bw-simple)\n",
    "  (:domain prodigy-bw)\n",
    "  (:objects A B C)\n",
    "  (:init (clear a) (handempty) (on a b) (ontable b))\n",
    "  (:goal (and (ontable a) (clear b))))\n",
    "\"\"\"\n",
    "\n",
    "BW_BLOCKS_PROBLEM_2 = \"\"\"(define (problem bw-sussman)\n",
    "  (:domain prodigy-bw)\n",
    "  (:objects A B C)\n",
    "  (:init (ontable a) (ontable b) (on c a)\n",
    "                (clear b) (clear c) (handempty))\n",
    "  (:goal (and (on a b) (on b c))))\n",
    "\"\"\"\n",
    "\n",
    "BW_BLOCKS_PROBLEM_3 = \"\"\"(define (problem bw-large-a)\n",
    "  (:domain prodigy-bw)\n",
    "  (:objects 1 2 3 4 5 6 7 8 9)\n",
    "  (:init (handempty)\n",
    "         (on 3 2)\n",
    "         (on 2 1)\n",
    "         (ontable 1)\n",
    "         (on 5 4)\n",
    "         (ontable 4)\n",
    "         (on 9 8)\n",
    "         (on 8 7)\n",
    "         (on 7 6)\n",
    "         (ontable 6)\n",
    "         (clear 3)\n",
    "         (clear 5)\n",
    "         (clear 9))\n",
    "  (:goal (and\n",
    "          (on 1 5)\n",
    "          (ontable 5)\n",
    "          (on 8 9)\n",
    "          (on 9 4)\n",
    "          (ontable 4)\n",
    "          (on 2 3)\n",
    "          (on 3 7)\n",
    "          (on 7 6)\n",
    "          (ontable 6)\n",
    "          (clear 1)\n",
    "          (clear 8)\n",
    "          (clear 2)\n",
    "          )))\n",
    "\"\"\"\n",
    "\n",
    "BW_BLOCKS_PROBLEM_4 = \"\"\"(define (problem bw-large-b)\n",
    "  (:domain prodigy-bw)\n",
    "  (:objects 1 2 3 4 5 6 7 8 9 10 11)\n",
    "  (:init (handempty)\n",
    "         (on 3 2)\n",
    "         (on 2 1)\n",
    "         (ontable 1)\n",
    "         (on 11 10)\n",
    "         (on 10 5)\n",
    "         (on 5 4)\n",
    "         (ontable 4)\n",
    "         (on 9 8)\n",
    "         (on 8 7)\n",
    "         (on 7 6)\n",
    "         (ontable 6)\n",
    "         (clear 3)\n",
    "         (clear 11)\n",
    "         (clear 9))\n",
    "  (:goal (and\n",
    "          (on 1 5)\n",
    "          (on 5 10)\n",
    "          (ontable 10)\n",
    "          (on 8 9)\n",
    "          (on 9 4)\n",
    "          (ontable 4)\n",
    "          (on 2 3)\n",
    "          (on 3 11)\n",
    "          (on 11 7)\n",
    "          (on 7 6)\n",
    "          (ontable 6)\n",
    "          (clear 1)\n",
    "          (clear 8)\n",
    "          (clear 2)\n",
    "          )))\n",
    "\"\"\"\n",
    "\n",
    "BW_BLOCKS_PROBLEM_5 = \"\"\"(define (problem bw-large-c)\n",
    "  (:domain prodigy-bw)\n",
    "  (:objects 1 2 3 4 5 6 7 8 9 10 11 12 13 14 15)\n",
    "  (:init (handempty)\n",
    "         (on 3 2)\n",
    "         (on 2 1)\n",
    "         (on 1 12)\n",
    "         (on 12 13)\n",
    "         (ontable 13)\n",
    "         (on 11 10)\n",
    "         (on 10 5)\n",
    "         (on 5 4)\n",
    "         (on 4 14)\n",
    "         (on 14 15)\n",
    "         (ontable 15)\n",
    "         (on 9 8)\n",
    "         (on 8 7)\n",
    "         (on 7 6)\n",
    "         (ontable 6)\n",
    "         (clear 3)\n",
    "         (clear 11)\n",
    "         (clear 9))\n",
    "  (:goal (and\n",
    "          (on 14 1)\n",
    "          (on 1 5)\n",
    "          (on 5 10)\n",
    "          (ontable 10)\n",
    "          (on 15 13)\n",
    "          (on 13 8)\n",
    "          (on 8 9)\n",
    "          (on 9 4)\n",
    "          (ontable 4)\n",
    "          (on 12 2)\n",
    "          (on 2 3)\n",
    "          (on 3 11)\n",
    "          (on 11 7)\n",
    "          (on 7 6)\n",
    "          (ontable 6)\n",
    "          (clear 14)\n",
    "          (clear 15)\n",
    "          (clear 12)\n",
    "          )))\n",
    "\n",
    "\"\"\"\n",
    "\n",
    "BW_BLOCKS_PROBLEM_6 = \"\"\"(define (problem bw-large-d)\n",
    "  (:domain prodigy-bw)\n",
    "  (:objects 1 2 3 4 5 6 7 8 9 10 11 12 13 14 15 16 17 18 19)\n",
    "  (:init (handempty)\n",
    "         (on 1 12)\n",
    "         (on 12 13)\n",
    "         (ontable 13)\n",
    "         (on 11 10)\n",
    "         (on 10 5)\n",
    "         (on 5 4)\n",
    "         (on 4 14)\n",
    "         (on 14 15)\n",
    "         (ontable 15)\n",
    "         (on 9 8)\n",
    "         (on 8 7)\n",
    "         (on 7 6)\n",
    "         (ontable 6)\n",
    "         (on 19 18)\n",
    "         (on 18 17)\n",
    "         (on 17 16)\n",
    "         (on 16 3)\n",
    "         (on 3 2)\n",
    "         (ontable 2)\n",
    "         (clear 1)\n",
    "         (clear 11)\n",
    "         (clear 9)\n",
    "         (clear 19))\n",
    "  (:goal (and\n",
    "          (on 17 18)\n",
    "          (on 18 19)\n",
    "          (on 19 14)\n",
    "          (on 14 1)\n",
    "          (on 1 5)\n",
    "          (on 5 10)\n",
    "          (ontable 10)\n",
    "          (on 15 13)\n",
    "          (on 13 8)\n",
    "          (on 8 9)\n",
    "          (on 9 4)\n",
    "          (ontable 4)\n",
    "          (on 12 2)\n",
    "          (on 2 3)\n",
    "          (on 3 16)\n",
    "          (on 16 11)\n",
    "          (on 11 7)\n",
    "          (on 7 6)\n",
    "          (ontable 6)\n",
    "          (clear 17)\n",
    "          (clear 15)\n",
    "          (clear 12)\n",
    "          )))\n",
    "\"\"\"\n",
    "BW_BLOCKS_PROBLEMS = [\n",
    "    BW_BLOCKS_PROBLEM_1, BW_BLOCKS_PROBLEM_2, BW_BLOCKS_PROBLEM_3,\n",
    "    BW_BLOCKS_PROBLEM_4, BW_BLOCKS_PROBLEM_5, BW_BLOCKS_PROBLEM_6\n",
    "]"
   ]
  },
  {
   "cell_type": "markdown",
   "id": "a0991639-6629-4a43-a147-727f3a25ebf4",
   "metadata": {},
   "source": [
    "We have created some helper functions to plot the running time and plan length of certain search algorithms and heuristics. You can use the `test_all_combinations` function in the following code block to get the planning results."
   ]
  },
  {
   "cell_type": "code",
   "execution_count": null,
   "id": "4fb48840-1cfa-430c-9df6-fac64356f780",
   "metadata": {},
   "outputs": [],
   "source": [
    "import itertools, sys, logging, importlib\n",
    "\n",
    "\n",
    "def test_run_planning(domain_pddl_str,\n",
    "                      problem_pddl_id,\n",
    "                      search_alg_name,\n",
    "                      heuristic_name,\n",
    "                      save_dict=None):\n",
    "    plan, run_time = run_planning(domain_pddl_str,\n",
    "                                  BW_BLOCKS_PROBLEMS[problem_pddl_id - 1],\n",
    "                                  search_alg_name,\n",
    "                                  heuristic_name,\n",
    "                                  return_time=True)\n",
    "    print(f'Run time\\t {run_time:.4f}\\t Plan length\\t {len(plan)}')\n",
    "    save_dict[(search_alg_name, heuristic_name,\n",
    "               problem_pddl_id)] = [run_time, len(plan)]\n",
    "    return len(plan), run_time\n",
    "\n",
    "\n",
    "def plot_result(result, timeout):\n",
    "    import matplotlib.pyplot as plt\n",
    "    all_problem_keys = result.keys()\n",
    "    for problem_id in range(1, 7):\n",
    "        problem_keys = [k for k in all_problem_keys if k[2] == problem_id]\n",
    "        problem_keys_str = list(map(lambda x: f'{x[0]}-{x[1]}', problem_keys))\n",
    "        bb = [\n",
    "            result[k][0] if result[k][0] != -1 else timeout\n",
    "            for k in problem_keys\n",
    "        ]\n",
    "        cc = [result[k][1] if result[k][0] != -1 else 0 for k in problem_keys]\n",
    "        fig, axes = plt.subplots(figsize=(10, 6), ncols=2, sharey=True)\n",
    "        axes[0].barh(problem_keys_str, bb, align='center', color='y')\n",
    "        axes[1].barh(problem_keys_str, cc, align='center', color='g')\n",
    "        axes[0].invert_xaxis()\n",
    "        plt.subplots_adjust(wspace=0)\n",
    "\n",
    "        axes[0].set(title='Planning time')\n",
    "        axes[1].set(title='Plan length')\n",
    "        fig.suptitle(f'Problem-{problem_id}')\n",
    "        plt.show()\n",
    "\n",
    "\n",
    "def test_all_combinations(timeout=5):\n",
    "    import multiprocess as mp\n",
    "    importlib.reload(logging)\n",
    "    logging.basicConfig(level=logging.INFO,\n",
    "                        handlers=[logging.StreamHandler(sys.stdout)])\n",
    "    problem_id = [i for i in range(1, 7)]\n",
    "    all_searchalgs = ['gbf', 'astar']\n",
    "    all_heuristics = ['blind', 'hmax', 'hadd', 'hff', 'lmcut']\n",
    "    result = {\n",
    "        (j, k, i): [-1, -1]\n",
    "        for (i, j,\n",
    "             k) in itertools.product(problem_id, all_searchalgs, all_heuristics)\n",
    "    }\n",
    "    result_savers = []\n",
    "    with mp.Manager() as manager:\n",
    "        for problem_i, search_algo, heuristic in itertools.product(\n",
    "                problem_id, all_searchalgs, all_heuristics):\n",
    "            print(f'problem_{problem_i}', search_algo, heuristic)\n",
    "            result_saver = manager.dict()\n",
    "            result_savers.append(result_saver)\n",
    "            planning_proc = mp.Process(target=test_run_planning,\n",
    "                                       args=(BW_BLOCKS_DOMAIN, problem_i,\n",
    "                                             search_algo, heuristic,\n",
    "                                             result_saver))\n",
    "            planning_proc.start()\n",
    "            planning_proc.join(timeout=timeout)\n",
    "            if planning_proc.is_alive():\n",
    "                planning_proc.terminate()\n",
    "                print(f'Terminate after {timeout} sec.')\n",
    "                print()\n",
    "                continue\n",
    "            print()\n",
    "        for res in result_savers:\n",
    "            result.update(res)\n",
    "    plot_result(result, timeout)\n",
    "\n",
    "\n",
    "# Uncomment the following line, set timeout limit to plot results\n",
    "# test_all_combinations(timeout=30)\n",
    "importlib.reload(logging)"
   ]
  },
  {
   "cell_type": "markdown",
   "id": "37680ef5-f7f9-47aa-ad57-af976f238009",
   "metadata": {},
   "source": [
    "Please identify which of these statement are True or False: \n",
    "\n",
    "1. Problems 1, 2 and 3 are easy (plan in less than 30 seconds) for all the methods.\n",
    "2. Problem 4 is easy (plan in less than 30 seconds) for all the non-blind heuristics.\n",
    "3. Problem 4 is easy (plan in less than 30 seconds) for all the non-blind heuristics, except `hmax`.\n",
    "4. The `blind` heuristic is generally hopeless for the bigger problems.\n",
    "5. `hadd` is generally much better (leads to faster planning) than `hmax`.\n",
    "6. `gbf-lmcut` will always find paths of the same length as `astar-lmcut` (given sufficient time).\n",
    "7. `astar-lmcut` will always find paths of the same length as `astar-hmax` (given sufficient time).\n",
    "8. `astar-lmcut` usually finds paths of the same length as `astar-hff` (in these problems).\n",
    "9. `gbf-hff` is a good compromise for planning speed and plan length (in these problems)."
   ]
  },
  {
   "cell_type": "code",
   "execution_count": 64,
   "id": "f3831609-306f-4724-9739-8ed774e17b95",
   "metadata": {},
   "outputs": [],
   "source": [
    "## Enter your answer by changing the assignment expression below, e.g., q16_answer = (True, False, True, ...)\n",
    "## Your answer should be a list of 14 True / False values. \n",
    "q17_answer = ()"
   ]
  },
  {
   "cell_type": "code",
   "execution_count": null,
   "id": "49acf6ff-afb3-497e-a81e-a274811efd6d",
   "metadata": {},
   "outputs": [],
   "source": [
    "# test_17\n",
    "Grader.run_single_test_inline(TestPSet8, \"test_17\", locals())"
   ]
  },
  {
   "cell_type": "markdown",
   "id": "1b561782",
   "metadata": {},
   "source": [
    "# <a name=\"part4\"></a> Time Spent on Pset (5 points)\n",
    "\n",
    "Please use [this form](https://forms.gle/tYH5175WSdfnCgmD8) to tell us how long you spent on this pset. After you submit the form, the form will give you a confirmation word. Please enter that confirmation word below to get an extra 5 points. "
   ]
  },
  {
   "cell_type": "code",
   "execution_count": 68,
   "id": "c7ce5556",
   "metadata": {},
   "outputs": [],
   "source": [
    "form_confirmation_word = \"\" #\"ENTER THE CONFIRMATION WORD HERE\""
   ]
  },
  {
   "cell_type": "code",
   "execution_count": null,
   "id": "e37628cf",
   "metadata": {},
   "outputs": [],
   "source": [
    "# Run all tests\n",
    "Grader.grade_output([TestPSet8], [locals()], \"results.json\")\n",
    "Grader.print_test_results(\"results.json\")"
   ]
  },
  {
   "cell_type": "code",
   "execution_count": null,
   "id": "92223926",
   "metadata": {},
   "outputs": [],
   "source": []
  }
 ],
 "metadata": {
  "colab": {
   "name": "hw04.ipynb",
   "provenance": []
  },
  "kernelspec": {
   "display_name": "Python 3 (ipykernel)",
   "language": "python",
   "name": "python3"
  },
  "language_info": {
   "codemirror_mode": {
    "name": "ipython",
    "version": 3
   },
   "file_extension": ".py",
   "mimetype": "text/x-python",
   "name": "python",
   "nbconvert_exporter": "python",
   "pygments_lexer": "ipython3",
   "version": "3.10.6"
  }
 },
 "nbformat": 4,
 "nbformat_minor": 5
}
